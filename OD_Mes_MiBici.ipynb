{
 "cells": [
  {
   "cell_type": "code",
   "execution_count": 2,
   "id": "37fca755-f000-4b0a-9c45-45c427ee0bc5",
   "metadata": {},
   "outputs": [],
   "source": [
    "import pandas as pd\n",
    "import geopandas as gpd\n",
    "from shapely.geometry import Point, LineString\n",
    "import requests\n",
    "\n",
    "from shapely.geometry import Point, MultiPoint\n",
    "import hashlib\n",
    "\n",
    "import geopandas as gpd\n",
    "from shapely.geometry import Point, LineString"
   ]
  },
  {
   "cell_type": "code",
   "execution_count": 1,
   "id": "1449b9f9-75cc-453c-8283-81811e35bc1a",
   "metadata": {},
   "outputs": [],
   "source": [
    "ruta_est_coord = r\"C:\\Users\\UTIC\\Documents\\Alejandro\\Docs\\INFORME MOV\\6. MIBICI\\estaciones_coordenadas_240718.xlsx\"\n",
    "ruta_viajes = r\"C:\\Users\\UTIC\\Documents\\Alejandro\\Docs\\DATA\\Red_MiBici\\Viajes\\2403.csv\"\n",
    "\n",
    "ruta_viajes_coord = r\"C:\\Users\\UTIC\\Documents\\Alejandro\\Docs\\DATA\\Red_MiBici\\Viajes\\2403_coord.xlsx\"\n",
    "\n",
    "output_gpkg_file = r\"C:\\Users\\UTIC\\Documents\\Alejandro\\Docs\\DATA\\Red_MiBici\\OD\\OD_MiBici_24.gpkg\"\n",
    "capa = 'OD_2403'\n",
    "capa_simple = 'OD_2403_Simple'"
   ]
  },
  {
   "cell_type": "markdown",
   "id": "58d2a31d-c722-41e1-aa47-a78286642c05",
   "metadata": {},
   "source": [
    "# TRATAR ESTACIONES"
   ]
  },
  {
   "cell_type": "code",
   "execution_count": 45,
   "id": "395dd26d-a2bc-4344-9b4e-5506e91aa503",
   "metadata": {},
   "outputs": [],
   "source": [
    "shape_file = r\"C:\\Users\\UTIC\\Documents\\Alejandro\\Docs\\DATA\\Red_MiBici\\Estaciones 2407\\360 estaciones MiBici.shp\"\n",
    "csv = r\"C:\\Users\\UTIC\\Documents\\Alejandro\\Docs\\DATA\\Red_MiBici\\Estaciones 2407\\nomenclatura_2024_06.csv\"\n",
    "\n",
    "ruta_est_coord = r\"C:\\Users\\UTIC\\Documents\\Alejandro\\Docs\\INFORME MOV\\6. MIBICI\\estaciones_coordenadas_240718.xlsx\"\n",
    "epsg_code = 6368"
   ]
  },
  {
   "cell_type": "code",
   "execution_count": 46,
   "id": "8b43453a-7280-4c07-9d6e-c564b36c6f6f",
   "metadata": {},
   "outputs": [],
   "source": [
    "# Leer la capa shape\n",
    "gdf = gpd.read_file(shape_file)\n",
    "\n",
    "# Proyectar a EPSG:6368\n",
    "gdf = gdf.to_crs(epsg=epsg_code)\n",
    "\n",
    "#Leer csv\n",
    "df = pd.read_csv(csv, encoding='latin-1')\n",
    "\n",
    "# Merge con el DataFrame de centroides para añadir coordenadas de origen y destino\n",
    "gdf = gdf.merge(df[['obcn','id']], how='left', left_on='CLAVE', right_on='obcn').rename(columns={'X': 'X_origen', 'Y': 'Y_origen'}).drop(columns=['obcn'])\n",
    "\n",
    "#Filtrar columnas necesarias\n",
    "gdf= gdf[['id','CLAVE','Cruce_C','ETAPA','Exten_m','geometry']]\n",
    "\n",
    "def multipoint_to_point(multipoint):\n",
    "    if isinstance(multipoint, MultiPoint):\n",
    "        points = list(multipoint.geoms)\n",
    "        if len(points) == 1:\n",
    "            return points[0]\n",
    "    return multipoint\n",
    "\n",
    "gdf['geometry'] = gdf['geometry'].apply(multipoint_to_point)\n",
    "\n",
    "# Extract x and y coordinates\n",
    "gdf['X'] = gdf.geometry.apply(lambda geom: geom.x)\n",
    "gdf['Y'] = gdf.geometry.apply(lambda geom: geom.y)\n",
    "\n",
    "# Exportar a Excel\n",
    "gdf.to_excel(ruta_est_coord, index=False)"
   ]
  },
  {
   "cell_type": "code",
   "execution_count": null,
   "id": "06fa758e-53f0-42e9-9709-29871c021394",
   "metadata": {},
   "outputs": [],
   "source": [
    "#estaciones ara"
   ]
  },
  {
   "cell_type": "code",
   "execution_count": 13,
   "id": "5240acb3-4cbe-4c19-8c17-98ae9fd5c06d",
   "metadata": {},
   "outputs": [],
   "source": [
    "shape_file = r\"C:\\Users\\UTIC\\Downloads\\Viajes Marzo\\Viajes Marzo\\Mi_BICI24.shp\"\n",
    "csv = r\"C:\\Users\\UTIC\\Documents\\Alejandro\\Docs\\DATA\\Red_MiBici\\Estaciones 2407\\nomenclatura_2024_06.csv\"\n",
    "\n",
    "ruta_est_coord = r\"C:\\Users\\UTIC\\Documents\\Alejandro\\Docs\\INFORME MOV\\6. MIBICI\\estaciones_coordenadas_240807.xlsx\"\n",
    "epsg_code = 6368"
   ]
  },
  {
   "cell_type": "code",
   "execution_count": 14,
   "id": "b10e22f3-80e5-4f0e-ab0b-b90b0127cd38",
   "metadata": {},
   "outputs": [],
   "source": [
    "# Leer la capa shape\n",
    "gdf = gpd.read_file(shape_file)\n",
    "\n",
    "# Proyectar a EPSG:6368\n",
    "gdf = gdf.to_crs(epsg=epsg_code)\n",
    "\n",
    "#Leer csv\n",
    "df = pd.read_csv(csv, encoding='latin-1')"
   ]
  },
  {
   "cell_type": "code",
   "execution_count": 15,
   "id": "2274e249-8d56-4e4f-9dc5-3753475f1e7c",
   "metadata": {},
   "outputs": [],
   "source": [
    "# Limpiar los espacios en blanco al inicio y al final de los valores en la columna 'Punto'\n",
    "df['obcn'] = df['obcn'].str.strip()\n",
    "gdf['CLAVE'] = gdf['CLAVE'].str.strip()\n",
    "\n",
    "# Merge con el DataFrame de centroides para añadir coordenadas de origen y destino\n",
    "gdf = gdf.merge(df[['obcn','id']], how='left', left_on='CLAVE', right_on='obcn').rename(columns={'X': 'X_origen', 'Y': 'Y_origen'}).drop(columns=['obcn'])\n",
    "\n",
    "#Filtrar columnas necesarias\n",
    "gdf= gdf[['id','CLAVE','Cruce_C','ETAPA','Exten_m','geometry']]\n",
    "\n",
    "def multipoint_to_point(multipoint):\n",
    "    if isinstance(multipoint, MultiPoint):\n",
    "        points = list(multipoint.geoms)\n",
    "        if len(points) == 1:\n",
    "            return points[0]\n",
    "    return multipoint\n",
    "\n",
    "gdf['geometry'] = gdf['geometry'].apply(multipoint_to_point)\n",
    "\n",
    "# Extract x and y coordinates\n",
    "gdf['X'] = gdf.geometry.apply(lambda geom: geom.x)\n",
    "gdf['Y'] = gdf.geometry.apply(lambda geom: geom.y)\n",
    "\n",
    "# Exportar a Excel\n",
    "gdf.to_excel(ruta_est_coord, index=False)"
   ]
  },
  {
   "cell_type": "markdown",
   "id": "92a0ec1a-c2a3-481b-854b-344b69eb6077",
   "metadata": {},
   "source": [
    "# Unir coordenadas desde estaciones a viajes"
   ]
  },
  {
   "cell_type": "code",
   "execution_count": 77,
   "id": "6dcc7ac7-f762-4cf7-86ec-acb7c6e42c0e",
   "metadata": {},
   "outputs": [],
   "source": [
    "#excel con viajes mibici\n",
    "df=pd.read_csv(ruta_viajes, encoding='latin-1') \n",
    "\n",
    "#excel con cp y coordenadas\n",
    "df_est_coord =pd.read_excel(ruta_est_coord)\n",
    "\n",
    "# Merge con el DataFrame de centroides para añadir coordenadas de origen y destino\n",
    "df = df.merge(df_est_coord[['id','X','Y']], how='left', left_on='Id de estación de inicio', right_on='id').rename(columns={'X': 'X_origen', 'Y': 'Y_origen'}).drop(columns=['id'])\n",
    "df = df.merge(df_est_coord[['id','X','Y']], how='left', left_on='Id de estación de fin de viaje', right_on='id').rename(columns={'X': 'X_destino', 'Y': 'Y_destino'}).drop(columns=['id'])\n",
    "\n",
    "# Exportar a Excel\n",
    "df.to_excel(ruta_viajes_coord, index=False)"
   ]
  },
  {
   "cell_type": "markdown",
   "id": "7b1a9c16-07c7-4544-a1f6-770c91f0c5df",
   "metadata": {},
   "source": [
    "# ORIGEN Y DESTINO"
   ]
  },
  {
   "cell_type": "code",
   "execution_count": 78,
   "id": "49bfa25c-0310-46f1-86c6-3ca9c7d7c71f",
   "metadata": {},
   "outputs": [],
   "source": [
    "#excel con OD emca con coordenadas\n",
    "df=pd.read_excel(ruta_viajes_coord) \n",
    "\n",
    "# Crear geometrías de líneas\n",
    "df['geometry'] = df.apply(lambda row: LineString([(row['X_origen'], row['Y_origen']), (row['X_destino'], row['Y_destino'])]), axis=1)\n",
    "\n",
    "# Crear GeoDataFrame de líneas\n",
    "gdf_lines = gpd.GeoDataFrame(df, geometry='geometry', crs='EPSG:6368')\n",
    "\n",
    "# # Mantener solo las columnas necesarias\n",
    "# gdf_lines = gdf_lines[['geometry'] + [col for col in df.columns if not col.startswith('geometry_')]]\n",
    "\n",
    "# Exportar a geopackage\n",
    "gdf_lines.to_file(output_gpkg_file, layer=capa, driver='GPKG')\n",
    "\n",
    "# Agrupar líneas iguales y contar cantidad de viajes\n",
    "gdf_lines['count'] = 1\n",
    "\n",
    "# Crear una función para generar un hash basado en la geometría de la línea\n",
    "def geometry_hash(geometry):\n",
    "    return hashlib.sha256(geometry.wkb).hexdigest()\n",
    "\n",
    "# Crear una nueva columna con el hash de la geometría\n",
    "gdf_lines['geometry_hash'] = gdf_lines['geometry'].apply(geometry_hash)\n",
    "\n",
    "# Agrupar por el hash de la geometría y contar el número de ocurrencias\n",
    "gdf_grouped = gdf_lines.groupby('geometry_hash').agg({\n",
    "    'geometry': 'first',\n",
    "    'count': 'size'\n",
    "}).reset_index()\n",
    "\n",
    "# Renombrar la columna 'count' a 'NUMERO'\n",
    "gdf_grouped = gdf_grouped.rename(columns={'count': 'NUMERO'})\n",
    "\n",
    "# Convertir a GeoDataFrame\n",
    "gdf_grouped = gpd.GeoDataFrame(gdf_grouped, geometry='geometry', crs='EPSG:6368')\n",
    "\n",
    "# Exportar a geopackage\n",
    "gdf_grouped.to_file(output_gpkg_file, layer=capa_simple, driver='GPKG')"
   ]
  }
 ],
 "metadata": {
  "kernelspec": {
   "display_name": "Python 3 (ipykernel)",
   "language": "python",
   "name": "python3"
  },
  "language_info": {
   "codemirror_mode": {
    "name": "ipython",
    "version": 3
   },
   "file_extension": ".py",
   "mimetype": "text/x-python",
   "name": "python",
   "nbconvert_exporter": "python",
   "pygments_lexer": "ipython3",
   "version": "3.12.7"
  }
 },
 "nbformat": 4,
 "nbformat_minor": 5
}
