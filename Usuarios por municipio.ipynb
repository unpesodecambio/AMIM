{
 "cells": [
  {
   "cell_type": "code",
   "execution_count": null,
   "id": "dec5de9e-a6c0-4d2c-b4c8-cf0fdaa19d80",
   "metadata": {},
   "outputs": [],
   "source": [
    "import pandas as pd\n",
    "import geopandas as gpd\n",
    "\n",
    "# Paso 1: Leer archivos\n",
    "# Ajusta las rutas de tus archivos\n",
    "shapefile_path = \"path/to/codigos_postales.shp\"\n",
    "csv_files = {\n",
    "    2019: \"path/to/usuarios_2019.csv\",\n",
    "    2020: \"path/to/usuarios_2020.csv\",\n",
    "    2021: \"path/to/usuarios_2021.csv\",\n",
    "    2022: \"path/to/usuarios_2022.csv\",\n",
    "    2023: \"path/to/usuarios_2023.csv\",\n",
    "    2024: \"path/to/usuarios_2024.csv\"\n",
    "}\n",
    "\n",
    "output_path = \"path/to/conteo_usuarios_por_municipio.csv\""
   ]
  },
  {
   "cell_type": "code",
   "execution_count": null,
   "id": "a4c1108a-3ba7-4953-a2b5-f66eb023a905",
   "metadata": {},
   "outputs": [],
   "source": [
    "# Leer shapefile con información de códigos postales\n",
    "codigos_postales = gpd.read_file(shapefile_path)\n",
    "\n",
    "# Seleccionar columnas necesarias del shapefile\n",
    "codigos_postales = codigos_postales[['CoPo', 'Mun']]\n",
    "\n",
    "# Paso 2: Procesar cada base de datos de usuarios\n",
    "conteo_por_municipio = {}\n",
    "\n",
    "for year, csv_path in csv_files.items():\n",
    "    # Leer base de datos de usuarios\n",
    "    usuarios = pd.read_csv(csv_path)\n",
    "    \n",
    "    # Asegurar que las columnas estén en el tipo correcto\n",
    "    usuarios['CP'] = usuarios['CP'].astype(str)\n",
    "    codigos_postales['CoPo'] = codigos_postales['CoPo'].astype(str)\n",
    "    \n",
    "    # Unir la información del municipio\n",
    "    usuarios = usuarios.merge(codigos_postales, left_on='CP', right_on='CoPo', how='left')\n",
    "    \n",
    "    # Contar usuarios por municipio\n",
    "    conteo = usuarios['Mun'].value_counts().reset_index()\n",
    "    conteo.columns = ['Municipio', year]\n",
    "    conteo_por_municipio[year] = conteo\n",
    "\n",
    "# Paso 3: Combinar los conteos en un único DataFrame\n",
    "conteo_final = pd.DataFrame({'Municipio': codigos_postales['Mun'].unique()})\n",
    "\n",
    "for year, conteo in conteo_por_municipio.items():\n",
    "    conteo_final = conteo_final.merge(conteo, on='Municipio', how='left')\n",
    "\n",
    "# Reemplazar NaN con 0 para facilitar lectura\n",
    "conteo_final = conteo_final.fillna(0)\n",
    "\n",
    "# Paso 4: Exportar el resultado a CSV\n",
    "conteo_final.to_csv(output_path, index=False)\n",
    "\n",
    "print(f\"El archivo de conteo se guardó en {output_path}\")"
   ]
  }
 ],
 "metadata": {
  "kernelspec": {
   "display_name": "Python 3 (ipykernel)",
   "language": "python",
   "name": "python3"
  },
  "language_info": {
   "codemirror_mode": {
    "name": "ipython",
    "version": 3
   },
   "file_extension": ".py",
   "mimetype": "text/x-python",
   "name": "python",
   "nbconvert_exporter": "python",
   "pygments_lexer": "ipython3",
   "version": "3.12.7"
  }
 },
 "nbformat": 4,
 "nbformat_minor": 5
}
