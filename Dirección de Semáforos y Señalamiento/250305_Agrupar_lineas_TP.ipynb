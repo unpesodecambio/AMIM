{
 "cells": [
  {
   "cell_type": "code",
   "execution_count": 19,
   "id": "8c97e603-bb16-4e0f-9c0f-04cda0fd19d1",
   "metadata": {},
   "outputs": [],
   "source": [
    "import pandas as pd\n",
    "import geopandas as gpd\n",
    "from shapely.geometry import Point, LineString\n",
    "import requests\n",
    "\n",
    "import hashlib\n",
    "\n",
    "import geopandas as gpd\n",
    "from shapely.geometry import Point, LineString\n",
    "from shapely.ops import snap"
   ]
  },
  {
   "cell_type": "code",
   "execution_count": 5,
   "id": "96c9ee0d-3c53-4106-a02e-77d17eb5c049",
   "metadata": {},
   "outputs": [],
   "source": [
    "# Configuración inicial\n",
    "ruta_lineas = r\"C:\\Users\\AMIM GTAC\\Documents\\AFC\\DSS\\Glorieta Minerva\\temp\\líneas.shp\"\n",
    "\n",
    "output_gpkg_file = r\"C:\\Users\\AMIM GTAC\\Documents\\AFC\\DSS\\Glorieta Minerva\\temp\\líneas_conteo.shp\""
   ]
  },
  {
   "cell_type": "code",
   "execution_count": 25,
   "id": "a3a96893-3b16-4546-bab0-24f95e73fe32",
   "metadata": {},
   "outputs": [
    {
     "name": "stderr",
     "output_type": "stream",
     "text": [
      "C:\\Users\\AMIM GTAC\\AppData\\Local\\Temp\\ipykernel_3308\\2876963796.py:35: UserWarning: Column names longer than 10 characters will be truncated when saved to ESRI Shapefile.\n",
      "  gdf_grouped.to_file(output_gpkg_file)\n",
      "C:\\Users\\AMIM GTAC\\anaconda3\\Lib\\site-packages\\pyogrio\\raw.py:723: RuntimeWarning: Normalized/laundered field name: 'geometry_hash' to 'geometry_h'\n",
      "  ogr_write(\n"
     ]
    }
   ],
   "source": [
    "# Crear GeoDataFrame de líneas\n",
    "gdf_lines = gpd.read_file(ruta_lineas)#, crs='EPSG:6368')\n",
    "\n",
    "gdf_lines = gdf_lines.to_crs(epsg=6368) \n",
    "\n",
    "gdf_lines['count'] = 1\n",
    "\n",
    "# Aplicar una simplificación mínima a las geometrías para reducir diferencias insignificantes\n",
    "gdf_lines['geometry'] = gdf_lines['geometry'].simplify(tolerance=1)  # Ajusta la tolerancia según necesidad\n",
    "\n",
    "tolerance = 1 \n",
    "gdf_lines['geometry'] = gdf_lines['geometry'].apply(lambda geom: snap(geom, geom, tolerance))\n",
    "\n",
    "\n",
    "# Crear una función para generar un hash basado en la geometría de la línea\n",
    "def geometry_hash(geometry):\n",
    "    return hashlib.sha256(geometry.wkb).hexdigest()\n",
    "\n",
    "# Crear una nueva columna con el hash de la geometría\n",
    "gdf_lines['geometry_hash'] = gdf_lines['geometry'].apply(geometry_hash)\n",
    "\n",
    "# Agrupar por el hash de la geometría y contar el número de ocurrencias\n",
    "gdf_grouped = gdf_lines.groupby('geometry_hash').agg({\n",
    "    'geometry': 'first',\n",
    "    'count': 'size'\n",
    "}).reset_index()\n",
    "\n",
    "# Renombrar la columna 'count' a 'NUMERO'\n",
    "gdf_grouped = gdf_grouped.rename(columns={'count': 'NUMERO'})\n",
    "\n",
    "# Convertir a GeoDataFrame\n",
    "gdf_grouped = gpd.GeoDataFrame(gdf_grouped, geometry='geometry', crs='EPSG:6368')\n",
    "\n",
    "# Exportar a geopackage\n",
    "gdf_grouped.to_file(output_gpkg_file)\n"
   ]
  },
  {
   "cell_type": "code",
   "execution_count": 23,
   "id": "6fa2e07f-21b2-46f1-a388-34fdc8224863",
   "metadata": {},
   "outputs": [
    {
     "name": "stderr",
     "output_type": "stream",
     "text": [
      "C:\\Users\\AMIM GTAC\\AppData\\Local\\Temp\\ipykernel_3308\\1603043691.py:43: UserWarning: Column names longer than 10 characters will be truncated when saved to ESRI Shapefile.\n",
      "  gdf_grouped.to_file(output_gpkg_file)\n",
      "C:\\Users\\AMIM GTAC\\anaconda3\\Lib\\site-packages\\pyogrio\\raw.py:723: RuntimeWarning: Normalized/laundered field name: 'geometry_hash' to 'geometry_h'\n",
      "  ogr_write(\n"
     ]
    }
   ],
   "source": [
    "import geopandas as gpd\n",
    "import hashlib\n",
    "from shapely.ops import unary_union\n",
    "\n",
    "# Cargar GeoDataFrame de líneas\n",
    "gdf_lines = gpd.read_file(ruta_lineas)\n",
    "\n",
    "# Convertir a un sistema de coordenadas proyectado en metros\n",
    "gdf_lines = gdf_lines.to_crs(epsg=6368)\n",
    "\n",
    "# Aplicar un buffer muy pequeño para unir líneas cercanas (ajusta la tolerancia según necesidad)\n",
    "tolerance = 1  # 1 metro\n",
    "buffered = gdf_lines.buffer(tolerance)\n",
    "\n",
    "# Fusionar las líneas superpuestas\n",
    "merged = unary_union(buffered)\n",
    "\n",
    "# Convertir el resultado en una nueva capa de líneas (multiparte a líneas individuales)\n",
    "gdf_grouped = gpd.GeoDataFrame(geometry=gpd.GeoSeries(merged), crs=\"EPSG:6368\")\n",
    "\n",
    "# Aplicar un buffer negativo para recuperar la geometría original\n",
    "gdf_grouped[\"geometry\"] = gdf_grouped[\"geometry\"].buffer(-tolerance)\n",
    "\n",
    "# Crear una función para generar un hash basado en la geometría de la línea\n",
    "def geometry_hash(geometry):\n",
    "    return hashlib.sha256(geometry.wkb).hexdigest()\n",
    "\n",
    "# Crear una nueva columna con el hash de la geometría\n",
    "gdf_grouped[\"geometry_hash\"] = gdf_grouped[\"geometry\"].apply(geometry_hash)\n",
    "\n",
    "# Agrupar por geometría única y contar ocurrencias\n",
    "gdf_grouped = gdf_grouped.groupby(\"geometry_hash\").agg({\n",
    "    \"geometry\": \"first\",\n",
    "}).reset_index()\n",
    "\n",
    "# Contar el número de líneas fusionadas\n",
    "gdf_grouped[\"NUMERO\"] = gdf_grouped.index + 1  # Puedes mejorar esto si tienes datos adicionales\n",
    "\n",
    "# Convertir a GeoDataFrame\n",
    "gdf_grouped = gpd.GeoDataFrame(gdf_grouped, geometry=\"geometry\", crs=\"EPSG:6368\")\n",
    "\n",
    "# Exportar a geopackage\n",
    "gdf_grouped.to_file(output_gpkg_file)\n"
   ]
  }
 ],
 "metadata": {
  "kernelspec": {
   "display_name": "Python 3 (ipykernel)",
   "language": "python",
   "name": "python3"
  },
  "language_info": {
   "codemirror_mode": {
    "name": "ipython",
    "version": 3
   },
   "file_extension": ".py",
   "mimetype": "text/x-python",
   "name": "python",
   "nbconvert_exporter": "python",
   "pygments_lexer": "ipython3",
   "version": "3.12.7"
  }
 },
 "nbformat": 4,
 "nbformat_minor": 5
}
