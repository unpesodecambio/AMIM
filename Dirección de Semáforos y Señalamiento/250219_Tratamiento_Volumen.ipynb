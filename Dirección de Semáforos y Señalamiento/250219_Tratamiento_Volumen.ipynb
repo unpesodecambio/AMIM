{
 "cells": [
  {
   "cell_type": "code",
   "execution_count": null,
   "id": "e6d949d9-0f75-4d32-82ea-fdff3961bb98",
   "metadata": {},
   "outputs": [],
   "source": [
    "import pandas as pd\n",
    "import geopandas as gpd\n",
    "import numpy as np\n",
    "from shapely.geometry import Polygon\n",
    "from dbfread import DBF\n",
    "from jenkspy import jenks_breaks\n",
    "import matplotlib.pyplot as plt\n",
    "\n",
    "import datetime\n",
    "import math"
   ]
  },
  {
   "cell_type": "code",
   "execution_count": null,
   "id": "4db3dc54-3420-42a4-b127-4a417f4c0562",
   "metadata": {},
   "outputs": [],
   "source": [
    "# Verificar columnas del DF, para ver columnas a sumar, y columnas a recalcular\n",
    "\n",
    "# Asegúrate de que pandas muestre todas las columnas y expanda el ancho de la visualización\n",
    "pd.set_option('display.max_columns', None)  # Muestra todas las columnas\n",
    "#pd.set_option('display.max_colwidth', None)  # No limite el ancho de las columnas\n",
    "pd.set_option('display.expand_frame_repr', False)  # Evita el corte de DataFrames grandes"
   ]
  },
  {
   "cell_type": "markdown",
   "id": "fe022517-54c6-4b43-9744-7879eacfff01",
   "metadata": {},
   "source": [
    "## Tratar aforos y extraer HMD"
   ]
  },
  {
   "cell_type": "code",
   "execution_count": null,
   "id": "226b5902-3673-47cf-bd88-de3afac189b4",
   "metadata": {},
   "outputs": [],
   "source": [
    "aforos_ruta = r\"C:\\Users\\AMIM GTAC\\Downloads\\InformeEvolucionPeriodica.csv\"\n",
    "\n",
    "ruta_salida_todos = r\"C:\\Users\\AMIM GTAC\\Desktop\\MINERVA\\Aforos vehiculares\\Vallarta y Lopez Mateos HMD 2025.xlsx\"\n"
   ]
  },
  {
   "cell_type": "code",
   "execution_count": null,
   "id": "145bd3b5-c7dc-424a-a35c-3cc44ba84a09",
   "metadata": {},
   "outputs": [],
   "source": [
    "\n",
    "aforo = pd.read_csv(aforos_ruta)\n",
    "\n",
    "aforo = aforo.drop(columns=['Label', 'Label.1', 'IntensidadPorPM_Fecha_label.1',\n",
    "       'IntensidadPorPM_Fecha_IntensidadPorPM_Hora_label.1',\n",
    "       'IntensidadPorPM_Fecha_IntensidadPorPM_Hora_Value_DataValue0.1'])\n",
    "\n",
    "# Crear un diccionario base con las columnas seleccionadas\n",
    "columnas_seleccionadas = {\n",
    "    'IntensidadPorPM_Fecha_label': 'dia',\n",
    "    'IntensidadPorPM_Fecha_IntensidadPorPM_Hora_label': 'hora',\n",
    "    'IntensidadPorPM_Fecha_IntensidadPorPM_Hora_Value_DataValue0': 'aforo',\n",
    "    'textbox6': 'sensor'\n",
    "}\n",
    "\n",
    "# Función para renombrar columnas con un prefijo\n",
    "def renombrar_columnas(dataframe):\n",
    "    return dataframe.rename(columns=columnas_seleccionadas)\n",
    "\n",
    "# Renombrar las columnas en ambos DataFrames\n",
    "aforo_renamed = renombrar_columnas(aforo)\n",
    "\n",
    "\n",
    "#borrar filas sin información\n",
    "aforo_limpio = aforo_renamed.dropna(ignore_index = True)\n",
    "aforo_ajustado=aforo_limpio.copy()\n",
    "\n",
    "#multiplicar valores por valor de ajuste\n",
    "aforo_ajustado[\"aforo\"] = np.ceil(aforo_ajustado[\"aforo\"]*.35)"
   ]
  },
  {
   "cell_type": "code",
   "execution_count": null,
   "id": "76c20ece-736d-4d34-ad58-df24850d05ee",
   "metadata": {},
   "outputs": [],
   "source": [
    "def procesar_aforo(df, sensor_id):\n",
    "    # Filtrar por sensor\n",
    "    df = df[df['sensor'] == sensor_id].copy()\n",
    "    \n",
    "    # Convertir 'dia' y 'hora' a datetime\n",
    "    df['timestamp'] = pd.to_datetime(df['dia'] + ' ' + df['hora'], format='%d/%m/%Y %H:%M')\n",
    "    \n",
    "    # Generar sumas intercaladas por hora\n",
    "    resultados = []\n",
    "    for t in df['timestamp']:\n",
    "        rango_inicio = t - pd.Timedelta(minutes=60)\n",
    "        rango_fin = t \n",
    "        suma_aforo = df[(df['timestamp'] > rango_inicio) & (df['timestamp'] <= rango_fin)]['aforo'].sum()\n",
    "        fila_original = df[df['timestamp'] == t].iloc[0]\n",
    "        resultados.append({'dia': t.date(), 'cuarto_fin': fila_original['hora'],'aforo': fila_original['aforo'], 'hora_fin': t.time(),  'suma_aforo': suma_aforo})\n",
    "    \n",
    "    df_resultados = pd.DataFrame(resultados)\n",
    "    \n",
    "    # Obtener la hora de máxima demanda matutina y vespertina\n",
    "    resumen = df_resultados.groupby('dia').agg(total_vehiculos=('aforo', 'sum'))\n",
    "    \n",
    "    max_matutino = df_resultados[(df_resultados['hora_fin'] >= pd.to_datetime('01:00').time()) & (df_resultados['hora_fin'] <= pd.to_datetime('12:45').time())]\n",
    "    max_vespertino = df_resultados[(df_resultados['hora_fin'] >= pd.to_datetime('12:15').time()) & (df_resultados['hora_fin'] <= pd.to_datetime('23:45').time())]\n",
    "    # max_6_9 = df_resultados[(df_resultados['hora_fin'] >= pd.to_datetime('06:15').time()) & (df_resultados['hora_fin'] <= pd.to_datetime('09:45').time())]\n",
    "    # max_10_11 = df_resultados[(df_resultados['hora_fin'] >= pd.to_datetime('10:15').time()) & (df_resultados['hora_fin'] <= pd.to_datetime('11:45').time())]\n",
    "    # max_13_15 = df_resultados[(df_resultados['hora_fin'] >= pd.to_datetime('13:15').time()) & (df_resultados['hora_fin'] <= pd.to_datetime('15:45').time())]\n",
    "    # max_17_21 = df_resultados[(df_resultados['hora_fin'] >= pd.to_datetime('17:15').time()) & (df_resultados['hora_fin'] <= pd.to_datetime('21:45').time())]\n",
    "    max_6_9 = df_resultados[(df_resultados['hora_fin'] >= pd.to_datetime('07:00').time()) & (df_resultados['hora_fin'] <= pd.to_datetime('09:00').time())]\n",
    "    max_10_11 = df_resultados[(df_resultados['hora_fin'] >= pd.to_datetime('11:00').time()) & (df_resultados['hora_fin'] <= pd.to_datetime('11:00').time())]\n",
    "    max_13_15 = df_resultados[(df_resultados['hora_fin'] >= pd.to_datetime('14:00').time()) & (df_resultados['hora_fin'] <= pd.to_datetime('15:00').time())]\n",
    "    max_17_21 = df_resultados[(df_resultados['hora_fin'] >= pd.to_datetime('18:00').time()) & (df_resultados['hora_fin'] <= pd.to_datetime('21:00').time())]\n",
    "    max_18_19 = df_resultados[(df_resultados['hora_fin'] >= pd.to_datetime('19:30').time()) & (df_resultados['hora_fin'] <= pd.to_datetime('19:30').time())]\n",
    "    max_22_23 = df_resultados[(df_resultados['hora_fin'] >= pd.to_datetime('23:30').time()) & (df_resultados['hora_fin'] <= pd.to_datetime('23:30').time())]\n",
    "    \n",
    "    max_matutino = max_matutino.loc[max_matutino.groupby('dia')['suma_aforo'].idxmax(), ['dia', 'hora_fin', 'suma_aforo']]\n",
    "    max_vespertino = max_vespertino.loc[max_vespertino.groupby('dia')['suma_aforo'].idxmax(), ['dia', 'hora_fin', 'suma_aforo']]\n",
    "    max_6_9 =   max_6_9.loc[max_6_9.groupby('dia')['suma_aforo'].idxmax(), ['dia', 'hora_fin', 'suma_aforo']]\n",
    "    max_10_11 = max_10_11.loc[max_10_11.groupby('dia')['suma_aforo'].idxmax(), ['dia', 'hora_fin', 'suma_aforo']]\n",
    "    max_13_15 = max_13_15.loc[max_13_15.groupby('dia')['suma_aforo'].idxmax(), ['dia', 'hora_fin', 'suma_aforo']]\n",
    "    max_17_21 = max_17_21.loc[max_17_21.groupby('dia')['suma_aforo'].idxmax(), ['dia', 'hora_fin', 'suma_aforo']]\n",
    "    max_18_19 = max_18_19.loc[max_18_19.groupby('dia')['suma_aforo'].idxmax(), ['dia', 'hora_fin', 'suma_aforo']]\n",
    "    max_22_23 = max_22_23.loc[max_22_23.groupby('dia')['suma_aforo'].idxmax(), ['dia', 'hora_fin', 'suma_aforo']]\n",
    "     \n",
    "    resumen = resumen.merge(max_matutino, on='dia', how='left').rename(columns={'hora_fin': 'hmd_am', 'suma_aforo':'afo_hmd_am' })\n",
    "    resumen = resumen.merge(max_vespertino, on='dia', how='left').rename(columns={'hora_fin': 'hmd_pm', 'suma_aforo':'afo_hmd_pm'})\n",
    "    resumen = resumen.merge(max_6_9  , on='dia', how='left').rename(columns={'hora_fin': 'hmd_6_9', 'suma_aforo':'afo_hmd_6_9'})\n",
    "    resumen = resumen.merge(max_10_11, on='dia', how='left').rename(columns={'hora_fin': 'hmd_10_11', 'suma_aforo':'afo_hmd_10_11'})\n",
    "    resumen = resumen.merge(max_13_15, on='dia', how='left').rename(columns={'hora_fin': 'hmd_13_15', 'suma_aforo':'afo_hmd_13_15'})\n",
    "    resumen = resumen.merge(max_17_21, on='dia', how='left').rename(columns={'hora_fin': 'hmd_17_21', 'suma_aforo':'afo_hmd_17_21'})\n",
    "    resumen = resumen.merge(max_18_19, on='dia', how='left').rename(columns={'hora_fin': 'hmd_18_19', 'suma_aforo':'afo_hmd_18_19'})\n",
    "    resumen = resumen.merge(max_22_23, on='dia', how='left').rename(columns={'hora_fin': 'hmd_22_23', 'suma_aforo':'afo_hmd_22_23'})\n",
    "\n",
    "    return df_resultados, resumen"
   ]
  },
  {
   "cell_type": "markdown",
   "id": "9a793555-5865-486e-99f9-a1b347ebcbdc",
   "metadata": {},
   "source": [
    "### exportar todos"
   ]
  },
  {
   "cell_type": "code",
   "execution_count": null,
   "id": "a7ecda2b-ebaa-4aba-ae4a-5007d6100f32",
   "metadata": {},
   "outputs": [],
   "source": [
    "#obtener sensores únicos\n",
    "sensores = aforo_ajustado['sensor'].unique()\n",
    "     \n",
    "# Crear un archivo Excel y escribir cada sensor en una hoja\n",
    "with pd.ExcelWriter(ruta_salida_todos) as writer:\n",
    "    for sensor in sensores:\n",
    "        df_resultados, resumen = procesar_aforo(aforo_ajustado, sensor)\n",
    "        resumen.to_excel(writer, sheet_name=sensor[:9], index=False)  # Limitar nombre de hoja a 9 caracteres\n"
   ]
  },
  {
   "cell_type": "markdown",
   "id": "78e74f5f-6ccd-413b-9789-3ae528003f58",
   "metadata": {},
   "source": [
    "### exportar uno solo"
   ]
  },
  {
   "cell_type": "code",
   "execution_count": null,
   "id": "e9086ed1-d895-431f-9b9c-a4d6f58cfb82",
   "metadata": {},
   "outputs": [],
   "source": [
    "#obtener sensores únicos\n",
    "sensores = aforo_ajustado['sensor'].unique()\n",
    "sensores"
   ]
  },
  {
   "cell_type": "code",
   "execution_count": null,
   "id": "689541c8-0e8d-48d1-9b0c-5c7378e099fe",
   "metadata": {},
   "outputs": [],
   "source": [
    "#Colocar sensor de interés en la fórmula\n",
    "df_resultados, resumen = procesar_aforo(aforo_ajustado,  'ATA 14250 (AV. VALLARTA / AV. LOPEZ MATEOS)')"
   ]
  },
  {
   "cell_type": "code",
   "execution_count": null,
   "id": "a92eb805-6f67-4ece-8334-a9fcd704c299",
   "metadata": {},
   "outputs": [],
   "source": [
    "#revisar df de resumen\n",
    "resumen"
   ]
  },
  {
   "cell_type": "code",
   "execution_count": null,
   "id": "46b35653-8c2a-4e46-bac0-b9276f79d9f7",
   "metadata": {},
   "outputs": [],
   "source": [
    "#revisar df de df_resultados\n",
    "df_resultados"
   ]
  },
  {
   "cell_type": "code",
   "execution_count": null,
   "id": "2cd2fe84-576c-4b27-a3ac-0f39849720fb",
   "metadata": {},
   "outputs": [],
   "source": [
    "#Revisar un día especifico del DF de resultados\n",
    "df_resultados.loc[df_resultados['dia']==datetime.date(2025, 2, 3)]"
   ]
  },
  {
   "cell_type": "code",
   "execution_count": null,
   "id": "a605a23e-3c48-4825-b7a9-5983d9c5bb1c",
   "metadata": {},
   "outputs": [],
   "source": [
    "#Exportar cualquiera de los DF a Excel, en ruta personalizada \n",
    "df_resultados.to_excel(r\"C:\\Users\\AMIM GTAC\\Desktop\\lazaro_vall_24f_3m_horas.xlsx\")"
   ]
  },
  {
   "cell_type": "markdown",
   "id": "6e77981f-31cf-428b-bed1-8727b1204492",
   "metadata": {},
   "source": [
    "## Gráficas"
   ]
  },
  {
   "cell_type": "code",
   "execution_count": null,
   "id": "06474e28-b15a-4098-9e28-8b00907ce5e9",
   "metadata": {},
   "outputs": [],
   "source": [
    "import pandas as pd\n",
    "import matplotlib.pyplot as plt\n",
    "import seaborn as sns\n",
    "\n",
    "# Cargar los datos\n",
    "ruta_archivo = r\"C:\\Users\\AMIM GTAC\\Downloads\\250325 Minerva Adicionales - Hoja 3 (2).csv\"  # Reemplaza con la ubicación de tu archivo\n",
    "df = pd.read_csv(ruta_archivo)"
   ]
  },
  {
   "cell_type": "code",
   "execution_count": null,
   "id": "d646b3c0-cef9-4fc5-819e-2f8780ab8f19",
   "metadata": {},
   "outputs": [],
   "source": [
    "# Asegurar que la columna 'Fecha' es tipo datetime\n",
    "df['Fecha'] = pd.to_datetime(df['Fecha'])\n",
    "\n",
    "# Convertir 'Hora' en minutos desde la medianoche\n",
    "df['Hora_inicio'] = df['Hora'].str.split(' a ').str[0]  # Extraer la hora inicial\n",
    "df['Hora_inicio'] = pd.to_datetime(df['Hora_inicio'], format='%H:%M').dt.hour * 60 + \\\n",
    "                    pd.to_datetime(df['Hora_inicio'], format='%H:%M').dt.minute\n"
   ]
  },
  {
   "cell_type": "code",
   "execution_count": null,
   "id": "36f31522-93fe-4e9e-bcbb-7e0a9e2263c1",
   "metadata": {},
   "outputs": [],
   "source": [
    "df"
   ]
  },
  {
   "cell_type": "code",
   "execution_count": null,
   "id": "1fc573e8-2969-448e-b582-9614977bd987",
   "metadata": {},
   "outputs": [],
   "source": [
    "# Definir el orden correcto de los días\n",
    "dias_ordenados = [\"Lunes\", \"Martes\", \"Miércoles\", \"Jueves\", \"Viernes\", \"Sábado\", \"Domingo\"]\n",
    "df['Día'] = pd.Categorical(df['Día'], categories=dias_ordenados, ordered=True)\n",
    "\n",
    "# Asignar un desplazamiento para cada día (1440 min = 1 día completo)\n",
    "df['Tiempo_continuo'] = df['Hora_inicio'] + (df['Fecha'] - df['Fecha'].min()).dt.days * 1440\n"
   ]
  },
  {
   "cell_type": "code",
   "execution_count": null,
   "id": "277a67fd-ba23-43b6-8796-9a2c59ba5712",
   "metadata": {},
   "outputs": [],
   "source": [
    "# Convertir 'Fecha' a datetime si no lo está\n",
    "df['Fecha'] = pd.to_datetime(df['Fecha'])\n",
    "\n",
    "# Ordenar por fecha y hora\n",
    "df = df.sort_values(by=['Fecha', 'Hora_inicio'])\n",
    "\n",
    "# Calcular el tiempo continuo en minutos desde el primer registro\n",
    "df['Tiempo_continuo'] = (df['Fecha'] - df['Fecha'].min()).dt.days * 1440 + df['Hora_inicio']\n"
   ]
  },
  {
   "cell_type": "code",
   "execution_count": null,
   "id": "1858c031-9304-4a1e-8855-626a2455513b",
   "metadata": {},
   "outputs": [],
   "source": [
    "import matplotlib"
   ]
  },
  {
   "cell_type": "code",
   "execution_count": null,
   "id": "a68859c4-2e00-429d-9db8-f07a53f1149b",
   "metadata": {},
   "outputs": [],
   "source": [
    "plt.rcParams['font.sans-serif'] = ['Montserrat']"
   ]
  },
  {
   "cell_type": "code",
   "execution_count": null,
   "id": "87a5dedd-713e-419f-8af9-341958c4bab2",
   "metadata": {},
   "outputs": [],
   "source": [
    "# Crear la gráfica\n",
    "plt.figure(figsize=(12, 6))\n",
    "palette = sns.color_palette(\"husl\", n_colors=len(dias_ordenados))\n",
    "\n",
    "# Los colores principales\n",
    "color1 = '#eab819'\n",
    "color2 = '#465055'\n",
    "\n",
    "# Crear una lista con los colores de la paleta (asignar uno a cada día)\n",
    "colores = [color1, color2]  # Puedes agregar más colores si lo deseas\n",
    "\n",
    "# Asumiendo que 'dias_ordenados' es una lista con los días que deseas graficar\n",
    "for i, dia in enumerate(dias_ordenados):\n",
    "    subset = df[df['Día'] == dia]\n",
    "    # Asignar el color correspondiente a cada día\n",
    "    color = colores[i % len(colores)]  # Esto garantiza que el color se repita si hay más días que colores\n",
    "    plt.fill_between(subset['Tiempo_continuo'], subset['Aforo'], color=color, alpha=0.6, label=dia)\n",
    "\n",
    "\n",
    "# Configurar etiquetas y líneas guía\n",
    "plt.xlabel(\"Día de la semana\", fontsize=12)\n",
    "plt.ylabel(\"Aforo vehicular\", fontsize=12)\n",
    "plt.title(\"Aforo vehicular por día de la semana\", fontsize=14)\n",
    "\n",
    "# Etiquetas en el eje X para cada día\n",
    "ticks_x = df.groupby(\"Día\")[\"Tiempo_continuo\"].mean().values\n",
    "plt.xticks(ticks=ticks_x, labels=dias_ordenados, rotation=0)\n",
    "\n",
    "# Definir la frecuencia de las líneas (6 horas en segundos)\n",
    "intervalo_6h = 6 * 3600  # 6 horas en segundos\n",
    "\n",
    "# Graficar líneas punteadas cada 6 horas\n",
    "for i in range(0, int(df['Tiempo_continuo'].max()), intervalo_6h):\n",
    "    plt.axvline(x=i, color='lightgray', linestyle='--', linewidth=0.5, alpha=0.3)\n",
    "\n",
    "# # Leyenda\n",
    "# plt.legend(title=\"Día de la semana\")\n",
    "\n",
    "plt.show()"
   ]
  },
  {
   "cell_type": "code",
   "execution_count": null,
   "id": "f00e943d-3b2b-4fe6-a566-d47409f77a99",
   "metadata": {},
   "outputs": [],
   "source": []
  }
 ],
 "metadata": {
  "kernelspec": {
   "display_name": "Python 3 (ipykernel)",
   "language": "python",
   "name": "python3"
  },
  "language_info": {
   "codemirror_mode": {
    "name": "ipython",
    "version": 3
   },
   "file_extension": ".py",
   "mimetype": "text/x-python",
   "name": "python",
   "nbconvert_exporter": "python",
   "pygments_lexer": "ipython3",
   "version": "3.12.7"
  }
 },
 "nbformat": 4,
 "nbformat_minor": 5
}
