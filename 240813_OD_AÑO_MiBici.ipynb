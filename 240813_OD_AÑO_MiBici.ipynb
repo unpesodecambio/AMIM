{
 "cells": [
  {
   "cell_type": "code",
   "execution_count": 2,
   "id": "37fca755-f000-4b0a-9c45-45c427ee0bc5",
   "metadata": {},
   "outputs": [],
   "source": [
    "import pandas as pd\n",
    "import geopandas as gpd\n",
    "from shapely.geometry import Point, LineString\n",
    "import requests\n",
    "\n",
    "from shapely.geometry import Point, MultiPoint\n",
    "import hashlib\n",
    "\n",
    "import geopandas as gpd\n",
    "from shapely.geometry import Point, LineString"
   ]
  },
  {
   "cell_type": "markdown",
   "id": "a1b7d43e-34d0-491a-811a-7a108d0670f0",
   "metadata": {},
   "source": [
    "# Rutas"
   ]
  },
  {
   "cell_type": "markdown",
   "id": "0428a489-ea39-42de-b10c-8e14ca3e5733",
   "metadata": {
    "jp-MarkdownHeadingCollapsed": true
   },
   "source": [
    "## 2023"
   ]
  },
  {
   "cell_type": "code",
   "execution_count": 27,
   "id": "1449b9f9-75cc-453c-8283-81811e35bc1a",
   "metadata": {},
   "outputs": [],
   "source": [
    "ruta_viajes_01 = r\"C:\\Users\\UTIC\\Documents\\Alejandro\\Docs\\DATA\\Red_MiBici\\Viajes\\2023\\datos_abiertos_2023_01.csv\"\n",
    "ruta_viajes_02 = r\"C:\\Users\\UTIC\\Documents\\Alejandro\\Docs\\DATA\\Red_MiBici\\Viajes\\2023\\datos_abiertos_2023_02.csv\"\n",
    "ruta_viajes_03 = r\"C:\\Users\\UTIC\\Documents\\Alejandro\\Docs\\DATA\\Red_MiBici\\Viajes\\2023\\datos_abiertos_2023_03.csv\"\n",
    "ruta_viajes_04 = r\"C:\\Users\\UTIC\\Documents\\Alejandro\\Docs\\DATA\\Red_MiBici\\Viajes\\2023\\datos_abiertos_2023_04.csv\"\n",
    "ruta_viajes_05 = r\"C:\\Users\\UTIC\\Documents\\Alejandro\\Docs\\DATA\\Red_MiBici\\Viajes\\2023\\datos_abiertos_2023_05.csv\"\n",
    "ruta_viajes_06 = r\"C:\\Users\\UTIC\\Documents\\Alejandro\\Docs\\DATA\\Red_MiBici\\Viajes\\2023\\datos_abiertos_2023_06.csv\"\n",
    "ruta_viajes_07 = r\"C:\\Users\\UTIC\\Documents\\Alejandro\\Docs\\DATA\\Red_MiBici\\Viajes\\2023\\datos_abiertos_2023_07.csv\"\n",
    "ruta_viajes_08 = r\"C:\\Users\\UTIC\\Documents\\Alejandro\\Docs\\DATA\\Red_MiBici\\Viajes\\2023\\datos_abiertos_2023_08.csv\"\n",
    "ruta_viajes_09 = r\"C:\\Users\\UTIC\\Documents\\Alejandro\\Docs\\DATA\\Red_MiBici\\Viajes\\2023\\datos_abiertos_2023_09.csv\"\n",
    "ruta_viajes_10 = r\"C:\\Users\\UTIC\\Documents\\Alejandro\\Docs\\DATA\\Red_MiBici\\Viajes\\2023\\datos_abiertos_2023_10.csv\"\n",
    "ruta_viajes_11 = r\"C:\\Users\\UTIC\\Documents\\Alejandro\\Docs\\DATA\\Red_MiBici\\Viajes\\2023\\datos_abiertos_2023_11.csv\"\n",
    "ruta_viajes_12 = r\"C:\\Users\\UTIC\\Documents\\Alejandro\\Docs\\DATA\\Red_MiBici\\Viajes\\2023\\datos_abiertos_2023_12.csv\"\n",
    "\n",
    "ruta_viajes = r\"C:\\Users\\UTIC\\Documents\\Alejandro\\Docs\\DATA\\Red_MiBici\\Viajes\\2023.csv\"\n",
    "\n",
    "ruta_viajes_coord = r\"C:\\Users\\UTIC\\Documents\\Alejandro\\Docs\\DATA\\Red_MiBici\\Viajes\\2023_coord.csv\"\n",
    "\n",
    "output_gpkg_file = r\"C:\\Users\\UTIC\\Documents\\Alejandro\\Docs\\DATA\\Red_MiBici\\OD\\OD_MiBici_2023.gpkg\"\n",
    "capa = 'OD_23'\n",
    "capa_simple = 'OD_23_Simple'"
   ]
  },
  {
   "cell_type": "markdown",
   "id": "16ab9598-464b-472e-ab02-5b45596c6018",
   "metadata": {
    "jp-MarkdownHeadingCollapsed": true
   },
   "source": [
    "## 2022"
   ]
  },
  {
   "cell_type": "code",
   "execution_count": 32,
   "id": "96156177-5147-4440-8b4e-08209a04a5f3",
   "metadata": {},
   "outputs": [],
   "source": [
    "ruta_viajes_01 = r\"C:\\Users\\UTIC\\Documents\\Alejandro\\Docs\\DATA\\Red_MiBici\\Viajes\\2022\\datos_abiertos_2022_01.csv\"\n",
    "ruta_viajes_02 = r\"C:\\Users\\UTIC\\Documents\\Alejandro\\Docs\\DATA\\Red_MiBici\\Viajes\\2022\\datos_abiertos_2022_02.csv\"\n",
    "ruta_viajes_03 = r\"C:\\Users\\UTIC\\Documents\\Alejandro\\Docs\\DATA\\Red_MiBici\\Viajes\\2022\\datos_abiertos_2022_03.csv\"\n",
    "ruta_viajes_04 = r\"C:\\Users\\UTIC\\Documents\\Alejandro\\Docs\\DATA\\Red_MiBici\\Viajes\\2022\\datos_abiertos_2022_04.csv\"\n",
    "ruta_viajes_05 = r\"C:\\Users\\UTIC\\Documents\\Alejandro\\Docs\\DATA\\Red_MiBici\\Viajes\\2022\\datos_abiertos_2022_05.csv\"\n",
    "ruta_viajes_06 = r\"C:\\Users\\UTIC\\Documents\\Alejandro\\Docs\\DATA\\Red_MiBici\\Viajes\\2022\\datos_abiertos_2022_06.csv\"\n",
    "ruta_viajes_07 = r\"C:\\Users\\UTIC\\Documents\\Alejandro\\Docs\\DATA\\Red_MiBici\\Viajes\\2022\\datos_abiertos_2022_07.csv\"\n",
    "ruta_viajes_08 = r\"C:\\Users\\UTIC\\Documents\\Alejandro\\Docs\\DATA\\Red_MiBici\\Viajes\\2022\\datos_abiertos_2022_08.csv\"\n",
    "ruta_viajes_09 = r\"C:\\Users\\UTIC\\Documents\\Alejandro\\Docs\\DATA\\Red_MiBici\\Viajes\\2022\\datos_abiertos_2022_09.csv\"\n",
    "ruta_viajes_10 = r\"C:\\Users\\UTIC\\Documents\\Alejandro\\Docs\\DATA\\Red_MiBici\\Viajes\\2022\\datos_abiertos_2022_10.csv\"\n",
    "ruta_viajes_11 = r\"C:\\Users\\UTIC\\Documents\\Alejandro\\Docs\\DATA\\Red_MiBici\\Viajes\\2022\\datos_abiertos_2022_11.csv\"\n",
    "ruta_viajes_12 = r\"C:\\Users\\UTIC\\Documents\\Alejandro\\Docs\\DATA\\Red_MiBici\\Viajes\\2022\\datos_abiertos_2022_12.csv\"\n",
    "\n",
    "ruta_viajes = r\"C:\\Users\\UTIC\\Documents\\Alejandro\\Docs\\DATA\\Red_MiBici\\Viajes\\2022.csv\"\n",
    "\n",
    "ruta_viajes_coord = r\"C:\\Users\\UTIC\\Documents\\Alejandro\\Docs\\DATA\\Red_MiBici\\Viajes\\2022_coord.csv\"\n",
    "\n",
    "output_gpkg_file = r\"C:\\Users\\UTIC\\Documents\\Alejandro\\Docs\\DATA\\Red_MiBici\\OD\\OD_MiBici_2022.gpkg\"\n",
    "capa = 'OD_22'\n",
    "capa_simple = 'OD_22_Simple'"
   ]
  },
  {
   "cell_type": "markdown",
   "id": "dd269ad8-256d-4081-8e34-fc182bba6ce9",
   "metadata": {
    "jp-MarkdownHeadingCollapsed": true
   },
   "source": [
    "## 2021"
   ]
  },
  {
   "cell_type": "code",
   "execution_count": 38,
   "id": "6172b2cc-ab81-457f-8c9b-d99ac80bfa73",
   "metadata": {},
   "outputs": [],
   "source": [
    "ruta_viajes_01 = r\"C:\\Users\\UTIC\\Documents\\Alejandro\\Docs\\DATA\\Red_MiBici\\Viajes\\2021\\datos_abiertos_2021_01.csv\"\n",
    "ruta_viajes_02 = r\"C:\\Users\\UTIC\\Documents\\Alejandro\\Docs\\DATA\\Red_MiBici\\Viajes\\2021\\datos_abiertos_2021_02.csv\"\n",
    "ruta_viajes_03 = r\"C:\\Users\\UTIC\\Documents\\Alejandro\\Docs\\DATA\\Red_MiBici\\Viajes\\2021\\datos_abiertos_2021_03.csv\"\n",
    "ruta_viajes_04 = r\"C:\\Users\\UTIC\\Documents\\Alejandro\\Docs\\DATA\\Red_MiBici\\Viajes\\2021\\datos_abiertos_2021_04.csv\"\n",
    "ruta_viajes_05 = r\"C:\\Users\\UTIC\\Documents\\Alejandro\\Docs\\DATA\\Red_MiBici\\Viajes\\2021\\datos_abiertos_2021_05.csv\"\n",
    "ruta_viajes_06 = r\"C:\\Users\\UTIC\\Documents\\Alejandro\\Docs\\DATA\\Red_MiBici\\Viajes\\2021\\datos_abiertos_2021_06.csv\"\n",
    "ruta_viajes_07 = r\"C:\\Users\\UTIC\\Documents\\Alejandro\\Docs\\DATA\\Red_MiBici\\Viajes\\2021\\datos_abiertos_2021_07.csv\"\n",
    "ruta_viajes_08 = r\"C:\\Users\\UTIC\\Documents\\Alejandro\\Docs\\DATA\\Red_MiBici\\Viajes\\2021\\datos_abiertos_2021_08.csv\"\n",
    "ruta_viajes_09 = r\"C:\\Users\\UTIC\\Documents\\Alejandro\\Docs\\DATA\\Red_MiBici\\Viajes\\2021\\datos_abiertos_2021_09.csv\"\n",
    "ruta_viajes_10 = r\"C:\\Users\\UTIC\\Documents\\Alejandro\\Docs\\DATA\\Red_MiBici\\Viajes\\2021\\datos_abiertos_2021_10.csv\"\n",
    "ruta_viajes_11 = r\"C:\\Users\\UTIC\\Documents\\Alejandro\\Docs\\DATA\\Red_MiBici\\Viajes\\2021\\datos_abiertos_2021_11.csv\"\n",
    "ruta_viajes_12 = r\"C:\\Users\\UTIC\\Documents\\Alejandro\\Docs\\DATA\\Red_MiBici\\Viajes\\2021\\datos_abiertos_2021_12.csv\"\n",
    "\n",
    "ruta_viajes = r\"C:\\Users\\UTIC\\Documents\\Alejandro\\Docs\\DATA\\Red_MiBici\\Viajes\\2021.csv\"\n",
    "\n",
    "ruta_viajes_coord = r\"C:\\Users\\UTIC\\Documents\\Alejandro\\Docs\\DATA\\Red_MiBici\\Viajes\\2021_coord.csv\"\n",
    "\n",
    "output_gpkg_file = r\"C:\\Users\\UTIC\\Documents\\Alejandro\\Docs\\DATA\\Red_MiBici\\OD\\OD_MiBici_2021.gpkg\"\n",
    "capa = 'OD_21'\n",
    "capa_simple = 'OD_21_Simple'"
   ]
  },
  {
   "cell_type": "markdown",
   "id": "b97c3729-9988-4094-8990-2b0dcb964e1d",
   "metadata": {
    "jp-MarkdownHeadingCollapsed": true
   },
   "source": [
    "## 2020"
   ]
  },
  {
   "cell_type": "code",
   "execution_count": 42,
   "id": "a0fd9ec2-513c-4360-81f2-cc8bc47ffacf",
   "metadata": {},
   "outputs": [],
   "source": [
    "ruta_viajes_01 = r\"C:\\Users\\UTIC\\Documents\\Alejandro\\Docs\\DATA\\Red_MiBici\\Viajes\\2020\\datos_abiertos_2020_01.csv\"\n",
    "ruta_viajes_02 = r\"C:\\Users\\UTIC\\Documents\\Alejandro\\Docs\\DATA\\Red_MiBici\\Viajes\\2020\\datos_abiertos_2020_02.csv\"\n",
    "ruta_viajes_03 = r\"C:\\Users\\UTIC\\Documents\\Alejandro\\Docs\\DATA\\Red_MiBici\\Viajes\\2020\\datos_abiertos_2020_03.csv\"\n",
    "ruta_viajes_04 = r\"C:\\Users\\UTIC\\Documents\\Alejandro\\Docs\\DATA\\Red_MiBici\\Viajes\\2020\\datos_abiertos_2020_04.csv\"\n",
    "ruta_viajes_05 = r\"C:\\Users\\UTIC\\Documents\\Alejandro\\Docs\\DATA\\Red_MiBici\\Viajes\\2020\\datos_abiertos_2020_05.csv\"\n",
    "ruta_viajes_06 = r\"C:\\Users\\UTIC\\Documents\\Alejandro\\Docs\\DATA\\Red_MiBici\\Viajes\\2020\\datos_abiertos_2020_06.csv\"\n",
    "ruta_viajes_07 = r\"C:\\Users\\UTIC\\Documents\\Alejandro\\Docs\\DATA\\Red_MiBici\\Viajes\\2020\\datos_abiertos_2020_07.csv\"\n",
    "ruta_viajes_08 = r\"C:\\Users\\UTIC\\Documents\\Alejandro\\Docs\\DATA\\Red_MiBici\\Viajes\\2020\\datos_abiertos_2020_08.csv\"\n",
    "ruta_viajes_09 = r\"C:\\Users\\UTIC\\Documents\\Alejandro\\Docs\\DATA\\Red_MiBici\\Viajes\\2020\\datos_abiertos_2020_09.csv\"\n",
    "ruta_viajes_10 = r\"C:\\Users\\UTIC\\Documents\\Alejandro\\Docs\\DATA\\Red_MiBici\\Viajes\\2020\\datos_abiertos_2020_10.csv\"\n",
    "ruta_viajes_11 = r\"C:\\Users\\UTIC\\Documents\\Alejandro\\Docs\\DATA\\Red_MiBici\\Viajes\\2020\\datos_abiertos_2020_11.csv\"\n",
    "ruta_viajes_12 = r\"C:\\Users\\UTIC\\Documents\\Alejandro\\Docs\\DATA\\Red_MiBici\\Viajes\\2020\\datos_abiertos_2020_12.csv\"\n",
    "\n",
    "ruta_viajes = r\"C:\\Users\\UTIC\\Documents\\Alejandro\\Docs\\DATA\\Red_MiBici\\Viajes\\2020.csv\"\n",
    "\n",
    "ruta_viajes_coord = r\"C:\\Users\\UTIC\\Documents\\Alejandro\\Docs\\DATA\\Red_MiBici\\Viajes\\2020_coord.csv\"\n",
    "\n",
    "output_gpkg_file = r\"C:\\Users\\UTIC\\Documents\\Alejandro\\Docs\\DATA\\Red_MiBici\\OD\\OD_MiBici_2020.gpkg\"\n",
    "capa = 'OD_20'\n",
    "capa_simple = 'OD_20_Simple'"
   ]
  },
  {
   "cell_type": "markdown",
   "id": "58d2a31d-c722-41e1-aa47-a78286642c05",
   "metadata": {
    "jp-MarkdownHeadingCollapsed": true
   },
   "source": [
    "# TRATAR ESTACIONES"
   ]
  },
  {
   "cell_type": "markdown",
   "id": "69196747-7b37-4a40-a5a6-388794445164",
   "metadata": {
    "jp-MarkdownHeadingCollapsed": true
   },
   "source": [
    "## estaciones diego"
   ]
  },
  {
   "cell_type": "code",
   "execution_count": 11,
   "id": "395dd26d-a2bc-4344-9b4e-5506e91aa503",
   "metadata": {},
   "outputs": [],
   "source": [
    "shape_file = r\"C:\\Users\\UTIC\\Documents\\Alejandro\\Docs\\DATA\\Red_MiBici\\Estaciones 2407\\360 estaciones MiBici.shp\"\n",
    "csv = r\"C:\\Users\\UTIC\\Documents\\Alejandro\\Docs\\DATA\\Red_MiBici\\Estaciones 2407\\nomenclatura_2024_06.csv\"\n",
    "\n",
    "ruta_est_coord = r\"C:\\Users\\UTIC\\Documents\\Alejandro\\Docs\\INFORME MOV\\6. MIBICI\\estaciones_coordenadas_240718.xlsx\"\n",
    "epsg_code = 6368"
   ]
  },
  {
   "cell_type": "code",
   "execution_count": 12,
   "id": "8b43453a-7280-4c07-9d6e-c564b36c6f6f",
   "metadata": {},
   "outputs": [],
   "source": [
    "# Leer la capa shape\n",
    "gdf = gpd.read_file(shape_file)\n",
    "\n",
    "# Proyectar a EPSG:6368\n",
    "gdf = gdf.to_crs(epsg=epsg_code)\n",
    "\n",
    "#Leer csv\n",
    "df = pd.read_csv(csv, encoding='latin-1')\n",
    "\n",
    "# Merge con el DataFrame de centroides para añadir coordenadas de origen y destino\n",
    "gdf = gdf.merge(df[['obcn','id']], how='left', left_on='CLAVE', right_on='obcn').rename(columns={'X': 'X_origen', 'Y': 'Y_origen'}).drop(columns=['obcn'])\n",
    "\n",
    "#Filtrar columnas necesarias\n",
    "gdf= gdf[['id','CLAVE','Cruce_C','ETAPA','Exten_m','geometry']]\n",
    "\n",
    "def multipoint_to_point(multipoint):\n",
    "    if isinstance(multipoint, MultiPoint):\n",
    "        points = list(multipoint.geoms)\n",
    "        if len(points) == 1:\n",
    "            return points[0]\n",
    "    return multipoint\n",
    "\n",
    "gdf['geometry'] = gdf['geometry'].apply(multipoint_to_point)\n",
    "\n",
    "# Extract x and y coordinates\n",
    "gdf['X'] = gdf.geometry.apply(lambda geom: geom.x)\n",
    "gdf['Y'] = gdf.geometry.apply(lambda geom: geom.y)\n",
    "\n",
    "# Exportar a Excel\n",
    "gdf.to_excel(ruta_est_coord, index=False)"
   ]
  },
  {
   "cell_type": "markdown",
   "id": "24305739-e8dd-43ad-9649-9ab212177ec5",
   "metadata": {},
   "source": [
    "## estaciones ara"
   ]
  },
  {
   "cell_type": "code",
   "execution_count": 15,
   "id": "5240acb3-4cbe-4c19-8c17-98ae9fd5c06d",
   "metadata": {},
   "outputs": [],
   "source": [
    "shape_file = r\"C:\\Users\\UTIC\\Downloads\\Viajes Marzo\\Viajes Marzo\\Mi_BICI24.shp\"\n",
    "csv = r\"C:\\Users\\UTIC\\Documents\\Alejandro\\Docs\\DATA\\Red_MiBici\\Estaciones 2407\\nomenclatura_2024_06.csv\"\n",
    "\n",
    "ruta_est_coord = r\"C:\\Users\\UTIC\\Documents\\Alejandro\\Docs\\INFORME MOV\\6. MIBICI\\estaciones_coordenadas_240807.xlsx\"\n",
    "epsg_code = 6368"
   ]
  },
  {
   "cell_type": "code",
   "execution_count": null,
   "id": "c4fcc9f3-7dab-4bdc-85a4-9bb6c3b5f5d6",
   "metadata": {},
   "outputs": [],
   "source": [
    "# Leer la capa shape\n",
    "gdf = gpd.read_file(shape_file)\n",
    "\n",
    "# Proyectar a EPSG:6368\n",
    "gdf = gdf.to_crs(epsg=epsg_code)\n",
    "\n",
    "#Leer csv\n",
    "df = pd.read_csv(csv, encoding='latin-1')\n",
    "\n",
    "# Limpiar los espacios en blanco al inicio y al final de los valores en la columna 'Punto'\n",
    "df['obcn'] = df['obcn'].str.strip()\n",
    "gdf['CLAVE'] = gdf['CLAVE'].str.strip()\n",
    "\n",
    "# Merge con el DataFrame de centroides para añadir coordenadas de origen y destino\n",
    "gdf = gdf.merge(df[['obcn','id']], how='left', left_on='CLAVE', right_on='obcn').rename(columns={'X': 'X_origen', 'Y': 'Y_origen'}).drop(columns=['obcn'])\n",
    "\n",
    "#Filtrar columnas necesarias\n",
    "gdf= gdf[['id','CLAVE','Cruce_C','ETAPA','Exten_m','geometry']]\n",
    "\n",
    "def multipoint_to_point(multipoint):\n",
    "    if isinstance(multipoint, MultiPoint):\n",
    "        points = list(multipoint.geoms)\n",
    "        if len(points) == 1:\n",
    "            return points[0]\n",
    "    return multipoint\n",
    "\n",
    "gdf['geometry'] = gdf['geometry'].apply(multipoint_to_point)\n",
    "\n",
    "# Extract x and y coordinates\n",
    "gdf['X'] = gdf.geometry.apply(lambda geom: geom.x)\n",
    "gdf['Y'] = gdf.geometry.apply(lambda geom: geom.y)\n",
    "\n",
    "# Exportar a Excel\n",
    "gdf.to_excel(ruta_est_coord, index=False)"
   ]
  },
  {
   "cell_type": "markdown",
   "id": "b837321c-4ddd-4c09-84cc-9aa9207cdf90",
   "metadata": {
    "jp-MarkdownHeadingCollapsed": true
   },
   "source": [
    "# Unir viajes en 1"
   ]
  },
  {
   "cell_type": "code",
   "execution_count": 43,
   "id": "f1836731-951c-4e61-b309-2b348749da74",
   "metadata": {},
   "outputs": [],
   "source": [
    "#excel con viajes mibici\n",
    "df_01=pd.read_csv(ruta_viajes_01, encoding='latin-1') \n",
    "df_02=pd.read_csv(ruta_viajes_02, encoding='latin-1') \n",
    "df_03=pd.read_csv(ruta_viajes_03, encoding='latin-1') \n",
    "df_04=pd.read_csv(ruta_viajes_04, encoding='latin-1') \n",
    "df_05=pd.read_csv(ruta_viajes_05, encoding='latin-1') \n",
    "df_06=pd.read_csv(ruta_viajes_06, encoding='latin-1') \n",
    "df_07=pd.read_csv(ruta_viajes_07, encoding='latin-1') \n",
    "df_08=pd.read_csv(ruta_viajes_08, encoding='latin-1') \n",
    "df_09=pd.read_csv(ruta_viajes_09, encoding='latin-1') \n",
    "df_10=pd.read_csv(ruta_viajes_10, encoding='latin-1') \n",
    "df_11=pd.read_csv(ruta_viajes_11, encoding='latin-1') \n",
    "df_12=pd.read_csv(ruta_viajes_12, encoding='latin-1') \n",
    "\n",
    "frames = [df_01, df_02, df_03, df_04, df_05, df_06, df_07, df_08, df_09, df_10, df_11, df_12]\n",
    "\n",
    "df = pd.concat(frames)\n",
    "\n",
    "# Exportar a Excel\n",
    "df.to_csv(ruta_viajes, index=False)"
   ]
  },
  {
   "cell_type": "markdown",
   "id": "92a0ec1a-c2a3-481b-854b-344b69eb6077",
   "metadata": {
    "jp-MarkdownHeadingCollapsed": true
   },
   "source": [
    "# Unir coordenadas desde estaciones a viajes"
   ]
  },
  {
   "cell_type": "code",
   "execution_count": 44,
   "id": "f7a2e6a9-d225-416c-90f0-b54708bf0e24",
   "metadata": {},
   "outputs": [],
   "source": [
    "#excel con viajes mibici\n",
    "df=pd.read_csv(ruta_viajes, encoding='latin-1') \n",
    "\n",
    "#excel con cp y coordenadas\n",
    "df_est_coord =pd.read_excel(ruta_est_coord)\n",
    "\n",
    "# Merge con el DataFrame de centroides para añadir coordenadas de origen y destino\n",
    "df = df.merge(df_est_coord[['id','X','Y']], how='left', left_on='Origen_Id', right_on='id').rename(columns={'X': 'X_origen', 'Y': 'Y_origen'}).drop(columns=['id'])\n",
    "df = df.merge(df_est_coord[['id','X','Y']], how='left', left_on='Destino_Id', right_on='id').rename(columns={'X': 'X_destino', 'Y': 'Y_destino'}).drop(columns=['id'])\n",
    "\n",
    "# Exportar a Excel\n",
    "df.to_csv(ruta_viajes_coord, index=False)"
   ]
  },
  {
   "cell_type": "markdown",
   "id": "7b1a9c16-07c7-4544-a1f6-770c91f0c5df",
   "metadata": {
    "jp-MarkdownHeadingCollapsed": true
   },
   "source": [
    "# ORIGEN Y DESTINO"
   ]
  },
  {
   "cell_type": "code",
   "execution_count": 45,
   "id": "49bfa25c-0310-46f1-86c6-3ca9c7d7c71f",
   "metadata": {},
   "outputs": [],
   "source": [
    "#excel con OD emca con coordenadas\n",
    "df=pd.read_csv(ruta_viajes_coord) \n",
    "\n",
    "# Crear geometrías de líneas\n",
    "df['geometry'] = df.apply(lambda row: LineString([(row['X_origen'], row['Y_origen']), (row['X_destino'], row['Y_destino'])]), axis=1)\n",
    "\n",
    "# Crear GeoDataFrame de líneas\n",
    "gdf_lines = gpd.GeoDataFrame(df, geometry='geometry', crs='EPSG:6368')\n",
    "\n",
    "# # Mantener solo las columnas necesarias\n",
    "# gdf_lines = gdf_lines[['geometry'] + [col for col in df.columns if not col.startswith('geometry_')]]\n",
    "\n",
    "# Exportar a geopackage\n",
    "gdf_lines.to_file(output_gpkg_file, layer=capa, driver='GPKG')\n",
    "\n",
    "# Agrupar líneas iguales y contar cantidad de viajes\n",
    "gdf_lines['count'] = 1\n",
    "\n",
    "# Crear una función para generar un hash basado en la geometría de la línea\n",
    "def geometry_hash(geometry):\n",
    "    return hashlib.sha256(geometry.wkb).hexdigest()\n",
    "\n",
    "# Crear una nueva columna con el hash de la geometría\n",
    "gdf_lines['geometry_hash'] = gdf_lines['geometry'].apply(geometry_hash)\n",
    "\n",
    "# Agrupar por el hash de la geometría y contar el número de ocurrencias\n",
    "gdf_grouped = gdf_lines.groupby('geometry_hash').agg({\n",
    "    'geometry': 'first',\n",
    "    'count': 'size'\n",
    "}).reset_index()\n",
    "\n",
    "# Renombrar la columna 'count' a 'NUMERO'\n",
    "gdf_grouped = gdf_grouped.rename(columns={'count': 'NUMERO'})\n",
    "\n",
    "# Convertir a GeoDataFrame\n",
    "gdf_grouped = gpd.GeoDataFrame(gdf_grouped, geometry='geometry', crs='EPSG:6368')\n",
    "\n",
    "# Exportar a geopackage\n",
    "gdf_grouped.to_file(output_gpkg_file, layer=capa_simple, driver='GPKG')"
   ]
  }
 ],
 "metadata": {
  "kernelspec": {
   "display_name": "Python 3 (ipykernel)",
   "language": "python",
   "name": "python3"
  },
  "language_info": {
   "codemirror_mode": {
    "name": "ipython",
    "version": 3
   },
   "file_extension": ".py",
   "mimetype": "text/x-python",
   "name": "python",
   "nbconvert_exporter": "python",
   "pygments_lexer": "ipython3",
   "version": "3.11.5"
  }
 },
 "nbformat": 4,
 "nbformat_minor": 5
}
