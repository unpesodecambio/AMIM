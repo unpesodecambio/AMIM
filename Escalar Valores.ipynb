{
 "cells": [
  {
   "cell_type": "code",
   "execution_count": 24,
   "id": "91c9c23a-c582-4dc8-9e4b-edccb5c841ac",
   "metadata": {},
   "outputs": [],
   "source": [
    "ruta_pob = r\"C:\\Users\\UTIC\\Downloads\\Telegram Desktop\\poblacion_puntos.gpkg\"\n",
    "ruta_bici = r\"C:\\Users\\UTIC\\Downloads\\Telegram Desktop\\viviendas_conbici.gpkg\"\n",
    "\n",
    "ruta_pob_csv=r\"C:\\Users\\UTIC\\Downloads\\Telegram Desktop\\poblacion.csv\""
   ]
  },
  {
   "cell_type": "code",
   "execution_count": 34,
   "id": "5ae6e60c-e0fc-47e0-bd40-041d406ae387",
   "metadata": {},
   "outputs": [],
   "source": [
    "import geopandas as gpd\n",
    "import pandas as pd\n",
    "from sklearn.preprocessing import StandardScaler\n",
    "from sklearn.preprocessing import MinMaxScaler"
   ]
  },
  {
   "cell_type": "code",
   "execution_count": 11,
   "id": "7fa6fbb1-6f3e-41a8-8bc8-1db50cca2907",
   "metadata": {},
   "outputs": [],
   "source": [
    "pob = gpd.read_file(ruta_pob, layer='poblacion_puntos')\n",
    "viv = gpd.read_file(ruta_bici, layer='viviendas_conbici')"
   ]
  },
  {
   "cell_type": "code",
   "execution_count": 25,
   "id": "f15047bd-051c-4f8e-8aab-e5e3bb2747c4",
   "metadata": {},
   "outputs": [],
   "source": [
    "pob_csv=pd.read_csv(ruta_pob_csv)"
   ]
  },
  {
   "cell_type": "code",
   "execution_count": 35,
   "id": "79b69ba8-e3f4-40c7-9125-b1fd1ebe3cb5",
   "metadata": {},
   "outputs": [],
   "source": [
    "# Inicializa el escalador\n",
    "scaler = MinMaxScaler()\n",
    "\n",
    "# Escala la columna 'POBTOT' y crea una nueva columna 'POBTOT_scaled'\n",
    "pob['POBTOT_scaled'] = scaler.fit_transform(pob[['POBTOT']])\n",
    "\n",
    "# Escala la columna 'VPH_BICI' y crea una nueva columna 'VPH_BICI_scaled'\n",
    "viv['VPH_BICI_scaled'] = scaler.fit_transform(viv[['VPH_BICI']])\n",
    "\n",
    "# Escala la columna 'VPH_BICI' y crea una nueva columna 'VPH_BICI_scaled'\n",
    "pob_csv['POBTOT_scaled'] = scaler.fit_transform(pob_csv[['POBTOT']])"
   ]
  },
  {
   "cell_type": "code",
   "execution_count": 36,
   "id": "4986222a-b6c9-4946-ba72-41a1f67a6892",
   "metadata": {},
   "outputs": [
    {
     "data": {
      "text/html": [
       "<div>\n",
       "<style scoped>\n",
       "    .dataframe tbody tr th:only-of-type {\n",
       "        vertical-align: middle;\n",
       "    }\n",
       "\n",
       "    .dataframe tbody tr th {\n",
       "        vertical-align: top;\n",
       "    }\n",
       "\n",
       "    .dataframe thead th {\n",
       "        text-align: right;\n",
       "    }\n",
       "</style>\n",
       "<table border=\"1\" class=\"dataframe\">\n",
       "  <thead>\n",
       "    <tr style=\"text-align: right;\">\n",
       "      <th></th>\n",
       "      <th>POBTOT_scaled</th>\n",
       "      <th>NORM</th>\n",
       "      <th>NORM</th>\n",
       "    </tr>\n",
       "  </thead>\n",
       "  <tbody>\n",
       "    <tr>\n",
       "      <th>0</th>\n",
       "      <td>1.000000</td>\n",
       "      <td>1.000000</td>\n",
       "      <td>1.000000</td>\n",
       "    </tr>\n",
       "    <tr>\n",
       "      <th>1</th>\n",
       "      <td>0.219055</td>\n",
       "      <td>0.219055</td>\n",
       "      <td>0.219055</td>\n",
       "    </tr>\n",
       "    <tr>\n",
       "      <th>2</th>\n",
       "      <td>0.198946</td>\n",
       "      <td>0.198946</td>\n",
       "      <td>0.198946</td>\n",
       "    </tr>\n",
       "    <tr>\n",
       "      <th>3</th>\n",
       "      <td>0.198262</td>\n",
       "      <td>0.198262</td>\n",
       "      <td>0.198262</td>\n",
       "    </tr>\n",
       "    <tr>\n",
       "      <th>4</th>\n",
       "      <td>0.194358</td>\n",
       "      <td>0.194358</td>\n",
       "      <td>0.194358</td>\n",
       "    </tr>\n",
       "    <tr>\n",
       "      <th>...</th>\n",
       "      <td>...</td>\n",
       "      <td>...</td>\n",
       "      <td>...</td>\n",
       "    </tr>\n",
       "    <tr>\n",
       "      <th>60049</th>\n",
       "      <td>0.000000</td>\n",
       "      <td>0.000000</td>\n",
       "      <td>0.000000</td>\n",
       "    </tr>\n",
       "    <tr>\n",
       "      <th>60050</th>\n",
       "      <td>0.000000</td>\n",
       "      <td>0.000000</td>\n",
       "      <td>0.000000</td>\n",
       "    </tr>\n",
       "    <tr>\n",
       "      <th>60051</th>\n",
       "      <td>0.000000</td>\n",
       "      <td>0.000000</td>\n",
       "      <td>0.000000</td>\n",
       "    </tr>\n",
       "    <tr>\n",
       "      <th>60052</th>\n",
       "      <td>0.000000</td>\n",
       "      <td>0.000000</td>\n",
       "      <td>0.000000</td>\n",
       "    </tr>\n",
       "    <tr>\n",
       "      <th>60053</th>\n",
       "      <td>0.000000</td>\n",
       "      <td>0.000000</td>\n",
       "      <td>0.000000</td>\n",
       "    </tr>\n",
       "  </tbody>\n",
       "</table>\n",
       "<p>60054 rows × 3 columns</p>\n",
       "</div>"
      ],
      "text/plain": [
       "       POBTOT_scaled      NORM      NORM\n",
       "0           1.000000  1.000000  1.000000\n",
       "1           0.219055  0.219055  0.219055\n",
       "2           0.198946  0.198946  0.198946\n",
       "3           0.198262  0.198262  0.198262\n",
       "4           0.194358  0.194358  0.194358\n",
       "...              ...       ...       ...\n",
       "60049       0.000000  0.000000  0.000000\n",
       "60050       0.000000  0.000000  0.000000\n",
       "60051       0.000000  0.000000  0.000000\n",
       "60052       0.000000  0.000000  0.000000\n",
       "60053       0.000000  0.000000  0.000000\n",
       "\n",
       "[60054 rows x 3 columns]"
      ]
     },
     "execution_count": 36,
     "metadata": {},
     "output_type": "execute_result"
    }
   ],
   "source": [
    "pob_csv[['POBTOT_scaled','NORM','NORM']]"
   ]
  }
 ],
 "metadata": {
  "kernelspec": {
   "display_name": "Python 3 (ipykernel)",
   "language": "python",
   "name": "python3"
  },
  "language_info": {
   "codemirror_mode": {
    "name": "ipython",
    "version": 3
   },
   "file_extension": ".py",
   "mimetype": "text/x-python",
   "name": "python",
   "nbconvert_exporter": "python",
   "pygments_lexer": "ipython3",
   "version": "3.11.5"
  }
 },
 "nbformat": 4,
 "nbformat_minor": 5
}
