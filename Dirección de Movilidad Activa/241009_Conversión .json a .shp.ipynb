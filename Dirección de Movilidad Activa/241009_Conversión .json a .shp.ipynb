{
 "cells": [
  {
   "cell_type": "code",
   "execution_count": 6,
   "id": "3324f83c-8f15-4f58-b20b-0f85c3f0c785",
   "metadata": {},
   "outputs": [],
   "source": [
    "import pandas as pd\n",
    "import geopandas as gpd\n",
    "from shapely.geometry import Point\n",
    "import json\n",
    "\n",
    "# Cargar el archivo JSON\n",
    "with open(r\"C:\\Users\\UTIC\\Documents\\Alejandro\\Docs\\BOMBS\\Archivo .json jtir\\prueba.json\", 'r', encoding='latin-1') as f:\n",
    "    data = json.load(f)\n",
    "\n",
    "# Crear una lista para almacenar las estaciones\n",
    "estaciones = []\n",
    "\n",
    "# Recorrer los nodos y estaciones\n",
    "for nodo, estaciones_list in data.items():\n",
    "    for estacion in estaciones_list:\n",
    "        estaciones.append({\n",
    "            'group': estacion['group'],\n",
    "            'station_id': estacion['station_id'],\n",
    "            'name': estacion['name'],\n",
    "            'lat': estacion['lat'],\n",
    "            'lon': estacion['lon'],\n",
    "            'address': estacion['address'],\n",
    "            'capacity': estacion['capacity']\n",
    "        })\n",
    "\n",
    "# Convertir a un DataFrame\n",
    "df = pd.DataFrame(estaciones)\n",
    "\n",
    "# Crear la geometría de puntos a partir de latitud y longitud\n",
    "geometry = [Point(xy) for xy in zip(df['lon'], df['lat'])]\n",
    "gdf = gpd.GeoDataFrame(df, geometry=geometry)\n",
    "\n",
    "# Definir el sistema de coordenadas (CRS), generalmente WGS84 (EPSG:4326)\n",
    "gdf.set_crs(epsg=4326, inplace=True)\n",
    "\n",
    "# Guardar como archivo .shp\n",
    "gdf.to_file(r\"C:\\Users\\UTIC\\Documents\\Alejandro\\Docs\\BOMBS\\Archivo .json jtir\\estaciones.shp\")\n"
   ]
  },
  {
   "cell_type": "code",
   "execution_count": 7,
   "id": "d09c4ee2-709c-421f-998a-136f338981bc",
   "metadata": {},
   "outputs": [],
   "source": [
    "# Agrupar por grupo y formar polígonos convexos (convex hull)\n",
    "gdf_grouped = gdf.dissolve(by='group')\n",
    "\n",
    "# Agrupar por grupo y formar polígonos convexos\n",
    "gdf_grouped['geometry'] = gdf_grouped.convex_hull\n",
    "\n",
    "# Filtrar geometrías que son Polygon o MultiPolygon\n",
    "gdf_polygons = gdf_grouped[gdf_grouped.geometry.type.isin(['Polygon', 'MultiPolygon'])]\n",
    "\n",
    "# Guardar solo los polígonos\n",
    "gdf_polygons.to_file(r\"C:\\Users\\UTIC\\Documents\\Alejandro\\Docs\\BOMBS\\Archivo .json jtir\\poligonos_estaciones.shp\")\n",
    "\n",
    "# Filtrar geometrías que no son polígonos (e.g. LINESTRING)\n",
    "gdf_lines = gdf_grouped[gdf_grouped.geometry.type == 'LineString']\n",
    "\n",
    "# Si quieres guardar las líneas en un archivo separado\n",
    "if not gdf_lines.empty:\n",
    "    gdf_lines.to_file(r\"C:\\Users\\UTIC\\Documents\\Alejandro\\Docs\\BOMBS\\Archivo .json jtir\\lineas_estaciones.shp\")\n",
    "\n"
   ]
  }
 ],
 "metadata": {
  "kernelspec": {
   "display_name": "Python 3 (ipykernel)",
   "language": "python",
   "name": "python3"
  },
  "language_info": {
   "codemirror_mode": {
    "name": "ipython",
    "version": 3
   },
   "file_extension": ".py",
   "mimetype": "text/x-python",
   "name": "python",
   "nbconvert_exporter": "python",
   "pygments_lexer": "ipython3",
   "version": "3.11.5"
  }
 },
 "nbformat": 4,
 "nbformat_minor": 5
}
