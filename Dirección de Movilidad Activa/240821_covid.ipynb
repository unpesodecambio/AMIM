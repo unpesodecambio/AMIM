{
 "cells": [
  {
   "cell_type": "code",
   "execution_count": 2,
   "id": "8c46675f-92fb-4a9f-a6ec-8e142698cc6d",
   "metadata": {},
   "outputs": [],
   "source": [
    "import pandas as pd"
   ]
  },
  {
   "cell_type": "code",
   "execution_count": 4,
   "id": "582a2828-7581-4b60-9674-c01f513cb95d",
   "metadata": {},
   "outputs": [
    {
     "name": "stderr",
     "output_type": "stream",
     "text": [
      "C:\\Users\\UTIC\\AppData\\Local\\Temp\\ipykernel_18720\\2416384653.py:5: DtypeWarning: Columns (38) have mixed types. Specify dtype option on import or set low_memory=False.\n",
      "  covid_20_df = pd.read_csv(covid_20_ruta)\n",
      "C:\\Users\\UTIC\\AppData\\Local\\Temp\\ipykernel_18720\\2416384653.py:6: DtypeWarning: Columns (38) have mixed types. Specify dtype option on import or set low_memory=False.\n",
      "  covid_21_df = pd.read_csv(covid_21_ruta)\n",
      "C:\\Users\\UTIC\\AppData\\Local\\Temp\\ipykernel_18720\\2416384653.py:7: DtypeWarning: Columns (38) have mixed types. Specify dtype option on import or set low_memory=False.\n",
      "  covid_22_df = pd.read_csv(covid_22_ruta)\n"
     ]
    }
   ],
   "source": [
    "covid_20_ruta = r\"C:\\Users\\UTIC\\Downloads\\COVID19MEXICO2020\\COVID19MEXICO2020.csv\"\n",
    "covid_21_ruta = r\"C:\\Users\\UTIC\\Downloads\\COVID19MEXICO2020\\COVID19MEXICO2021.csv\"\n",
    "covid_22_ruta = r\"C:\\Users\\UTIC\\Downloads\\COVID19MEXICO2020\\COVID19MEXICO2022.csv\"\n",
    "\n",
    "covid_20_df = pd.read_csv(covid_20_ruta)\n",
    "covid_21_df = pd.read_csv(covid_21_ruta)\n",
    "covid_22_df = pd.read_csv(covid_22_ruta)"
   ]
  },
  {
   "cell_type": "code",
   "execution_count": 10,
   "id": "bf9a371b-c173-48d9-959e-9ef7cd86a0c2",
   "metadata": {},
   "outputs": [
    {
     "data": {
      "text/plain": [
       "Index(['FECHA_ACTUALIZACION', 'ID_REGISTRO', 'ORIGEN', 'SECTOR', 'ENTIDAD_UM',\n",
       "       'SEXO', 'ENTIDAD_NAC', 'ENTIDAD_RES', 'MUNICIPIO_RES', 'TIPO_PACIENTE',\n",
       "       'FECHA_INGRESO', 'FECHA_SINTOMAS', 'FECHA_DEF', 'INTUBADO', 'NEUMONIA',\n",
       "       'EDAD', 'NACIONALIDAD', 'EMBARAZO', 'HABLA_LENGUA_INDIG', 'INDIGENA',\n",
       "       'DIABETES', 'EPOC', 'ASMA', 'INMUSUPR', 'HIPERTENSION', 'OTRA_COM',\n",
       "       'CARDIOVASCULAR', 'OBESIDAD', 'RENAL_CRONICA', 'TABAQUISMO',\n",
       "       'OTRO_CASO', 'TOMA_MUESTRA_LAB', 'RESULTADO_LAB',\n",
       "       'TOMA_MUESTRA_ANTIGENO', 'RESULTADO_ANTIGENO', 'CLASIFICACION_FINAL',\n",
       "       'MIGRANTE', 'PAIS_NACIONALIDAD', 'PAIS_ORIGEN', 'UCI'],\n",
       "      dtype='object')"
      ]
     },
     "execution_count": 10,
     "metadata": {},
     "output_type": "execute_result"
    }
   ],
   "source": [
    "covid_22_df.columns"
   ]
  }
 ],
 "metadata": {
  "kernelspec": {
   "display_name": "Python 3 (ipykernel)",
   "language": "python",
   "name": "python3"
  },
  "language_info": {
   "codemirror_mode": {
    "name": "ipython",
    "version": 3
   },
   "file_extension": ".py",
   "mimetype": "text/x-python",
   "name": "python",
   "nbconvert_exporter": "python",
   "pygments_lexer": "ipython3",
   "version": "3.11.5"
  }
 },
 "nbformat": 4,
 "nbformat_minor": 5
}
