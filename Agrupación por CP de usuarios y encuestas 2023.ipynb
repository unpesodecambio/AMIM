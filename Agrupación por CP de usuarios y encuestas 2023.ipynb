{
 "cells": [
  {
   "cell_type": "code",
   "execution_count": 1,
   "id": "2f56796a-77ce-4c1b-b149-5296dce3cdc4",
   "metadata": {},
   "outputs": [],
   "source": [
    "# Importamos las librerías necesarias\n",
    "import pandas as pd\n",
    "from datetime import datetime\n",
    "import geopandas as gpd"
   ]
  },
  {
   "cell_type": "code",
   "execution_count": 2,
   "id": "56d3f37a-3ac0-4f00-864e-86c5b07d6aa7",
   "metadata": {},
   "outputs": [
    {
     "name": "stdout",
     "output_type": "stream",
     "text": [
      "Análisis completado y guardado en 'Usuarios_CP.xlsx'\n"
     ]
    }
   ],
   "source": [
    "# Función para calcular la edad a partir de la fecha de nacimiento\n",
    "def calcular_edad(fecha_nacimiento):\n",
    "    hoy = datetime.today()\n",
    "    return hoy.year - fecha_nacimiento.year - ((hoy.month, hoy.day) < (fecha_nacimiento.month, fecha_nacimiento.day))\n",
    "\n",
    "# Cargar la base de datos de usuarios\n",
    "usuarios = pd.read_excel(r\"C:\\Users\\UTIC\\Documents\\Alejandro\\Docs\\INFORME MOV\\6. MIBICI\\EMA\\ema 2023.xlsx\", 'usuarios_2023')\n",
    "\n",
    "# Convertir la columna 'Birthdate' a formato de fecha\n",
    "usuarios['Birthdate'] = pd.to_datetime(usuarios['Birthdate'], format='%d/%m/%Y')\n",
    "\n",
    "# Calcular la edad y almacenarla en una nueva columna 'Edad'\n",
    "usuarios['Edad'] = usuarios['Birthdate'].apply(calcular_edad)\n",
    "\n",
    "# Agrupar por 'Shipping Zip/postal Code' y contar cada género, además de agregar la población total\n",
    "usuarios_agrupados = usuarios.groupby('Shipping Zip/postal Code').agg(\n",
    "    TOTAL=('Gender', 'size'),  \n",
    "    MALE=('Gender', lambda x: (x == 'MALE').sum()),\n",
    "    FEMALE=('Gender', lambda x: (x == 'FEMALE').sum()),\n",
    "    OTHER=('Gender', lambda x: (x == 'OTHER').sum())\n",
    ").reset_index()\n",
    "\n",
    "# Crear categorías quinquenales de edades y contarlas\n",
    "usuarios['Edad_Grupo'] = pd.cut(usuarios['Edad'], bins=[15, 20, 25, 30, 35, 40, 45, 50, 55, 60, 65, 70, 100],\n",
    "                                labels=['16 a 20', '21 a 25', '26 a 30', '31 a 35', '36 a 40', '41 a 45', \n",
    "                                        '46 a 50', '51 a 55', '56 a 60', '61 a 65', '66 a 70', '71 a 100'])\n",
    "\n",
    "# Contar las edades quinquenales por código postal\n",
    "edad_quinquenal = usuarios.pivot_table(index='Shipping Zip/postal Code', columns='Edad_Grupo', \n",
    "                                       aggfunc='size', fill_value=0)\n",
    "\n",
    "# Cargar el archivo de encuestas\n",
    "encuestas = pd.read_excel(r\"C:\\Users\\UTIC\\Documents\\Alejandro\\Docs\\INFORME MOV\\6. MIBICI\\EMA\\Encuesta_Muestra_Representativa_v1_240627.xlsx\")\n",
    "\n",
    "# Contar los valores únicos de la columna de ingreso mensual por CP\n",
    "ingreso_mensual = encuestas.pivot_table(index='Codigo_Postal', columns='¿Cuál es tu ingreso mensual aproximado? (personal)Pesos mexicanos', \n",
    "                                        aggfunc='size', fill_value=0)\n",
    "\n",
    "# Excluir la columna \"Prefiero no responder\" y calcular porcentajes\n",
    "if 'Prefiero no responder' in ingreso_mensual.columns:\n",
    "    validas = ingreso_mensual.drop(columns=['Prefiero no responder'])\n",
    "else:\n",
    "    validas = ingreso_mensual.copy()\n",
    "\n",
    "suma_validas = validas.sum(axis=1)\n",
    "ingreso_porcentajes = validas.div(suma_validas, axis=0) * 100\n",
    "\n",
    "# Contar los valores únicos de la columna de ingreso mensual por CP\n",
    "grado_estudios = encuestas.pivot_table(index='Codigo_Postal', columns='Máximo grado de estudios', \n",
    "                                        aggfunc='size', fill_value=0)\n",
    "\n",
    "# Excluir la columna \"Prefiero no responder\" y calcular porcentajes\n",
    "if 'Prefiero no responder' in grado_estudios.columns:\n",
    "    validas = grado_estudios.drop(columns=['Prefiero no responder'])\n",
    "else:\n",
    "    validas = grado_estudios.copy()\n",
    "\n",
    "suma_validas = validas.sum(axis=1)\n",
    "estudios_porc = validas.div(suma_validas, axis=0) * 100\n",
    "\n",
    "# Unir todos los resultados en un solo DataFrame final\n",
    "resultado_final = usuarios_agrupados.join(edad_quinquenal, on='Shipping Zip/postal Code', how='left')\n",
    "resultado_final = resultado_final.join(ingreso_mensual, on='Shipping Zip/postal Code', how='left')\n",
    "resultado_final = resultado_final.join(ingreso_porcentajes.add_suffix('_%'), on='Shipping Zip/postal Code', how='left')\n",
    "resultado_final = resultado_final.join(grado_estudios, on='Shipping Zip/postal Code', how='left')\n",
    "resultado_final = resultado_final.join(estudios_porc.add_suffix('_%'), on='Shipping Zip/postal Code', how='left')\n",
    "\n",
    "# Guardar el resultado en un archivo Excel\n",
    "resultado_final.to_excel(r\"C:\\Users\\UTIC\\Documents\\Alejandro\\Docs\\INFORME MOV\\6. MIBICI\\EMA\\Usuarios_CP.xlsx\", index=False)\n",
    "\n",
    "print(\"Análisis completado y guardado en 'Usuarios_CP.xlsx'\")"
   ]
  },
  {
   "cell_type": "code",
   "execution_count": 7,
   "id": "950e201a-bee2-425a-b2fa-d0118a96d4be",
   "metadata": {},
   "outputs": [
    {
     "name": "stdout",
     "output_type": "stream",
     "text": [
      "Unión completada y guardada en 'Usuarios_CP.gpkg'\n"
     ]
    }
   ],
   "source": [
    "# Unir a shape CP\n",
    "\n",
    "# Cargar el archivo shapefile de los códigos postales\n",
    "shapefile = gpd.read_file(r\"C:\\Users\\UTIC\\Documents\\Alejandro\\Docs\\DATA\\Códigos Postales JALISCO\\CP_JAL.shp\")\n",
    "\n",
    "# Cargar el archivo Excel con los resultados del análisis\n",
    "resultado = pd.read_excel(r\"C:\\Users\\UTIC\\Documents\\Alejandro\\Docs\\INFORME MOV\\6. MIBICI\\EMA\\Usuarios_CP.xlsx\")\n",
    "\n",
    "# Convertir las columnas de código postal a string para hacer la unión\n",
    "shapefile['C__digo_Po'] = shapefile['C__digo_Po'].astype(str)\n",
    "resultado['Shipping Zip/postal Code'] = resultado['Shipping Zip/postal Code'].astype(str)\n",
    "\n",
    "# Unir los datos del Excel al shapefile usando el campo del código postal (asegúrate que tienen el mismo nombre)\n",
    "shapefile_unido = shapefile.merge(resultado, left_on='C__digo_Po', right_on='Shipping Zip/postal Code')\n",
    "\n",
    "# Conservar sólo las columnas de interés, más la columna de geometría\n",
    "columnas_interes = ['C__digo_Po'] + list(resultado.columns) + ['geometry']\n",
    "shapefile_final = shapefile_unido[columnas_interes]\n",
    "\n",
    "# Guardar el resultado en un nuevo archivo shapefile\n",
    "shapefile_final.to_file(r\"C:\\Users\\UTIC\\Documents\\Alejandro\\Docs\\INFORME MOV\\6. MIBICI\\EMA\\Usuarios_CP.gpkg\",layer='2023_MiBici_UsEc')\n",
    "                        \n",
    "print(\"Unión completada y guardada en 'Usuarios_CP.gpkg'\")\n"
   ]
  }
 ],
 "metadata": {
  "kernelspec": {
   "display_name": "Python 3 (ipykernel)",
   "language": "python",
   "name": "python3"
  },
  "language_info": {
   "codemirror_mode": {
    "name": "ipython",
    "version": 3
   },
   "file_extension": ".py",
   "mimetype": "text/x-python",
   "name": "python",
   "nbconvert_exporter": "python",
   "pygments_lexer": "ipython3",
   "version": "3.12.7"
  }
 },
 "nbformat": 4,
 "nbformat_minor": 5
}
