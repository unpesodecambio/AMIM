{
 "cells": [
  {
   "cell_type": "markdown",
   "id": "c3b63181-17c3-4d5f-9fc8-0df732194a9e",
   "metadata": {},
   "source": [
    "# Juntar TIFF"
   ]
  },
  {
   "cell_type": "markdown",
   "id": "73dfe6b4-0e06-4c13-b1e5-70569bea9888",
   "metadata": {},
   "source": [
    "## Juntar los 32 archivos (limpiamente)"
   ]
  },
  {
   "cell_type": "code",
   "execution_count": 2,
   "id": "aa26ff34-edd3-4230-b5c1-6237c6209cb5",
   "metadata": {},
   "outputs": [
    {
     "name": "stdout",
     "output_type": "stream",
     "text": [
      "Collecting gdal\n",
      "  Downloading GDAL-3.9.0.tar.gz (839 kB)\n",
      "     ---------------------------------------- 0.0/839.9 kB ? eta -:--:--\n",
      "     ---------------------------------------- 10.2/839.9 kB ? eta -:--:--\n",
      "     - ----------------------------------- 30.7/839.9 kB 330.3 kB/s eta 0:00:03\n",
      "     ---- -------------------------------- 92.2/839.9 kB 585.1 kB/s eta 0:00:02\n",
      "     --------- ---------------------------- 204.8/839.9 kB 1.0 MB/s eta 0:00:01\n",
      "     ------------------ ------------------- 419.8/839.9 kB 1.8 MB/s eta 0:00:01\n",
      "     ---------------------------- --------- 634.9/839.9 kB 2.2 MB/s eta 0:00:01\n",
      "     -------------------------------------  839.7/839.9 kB 2.5 MB/s eta 0:00:01\n",
      "     -------------------------------------  839.7/839.9 kB 2.5 MB/s eta 0:00:01\n",
      "     -------------------------------------- 839.9/839.9 kB 2.1 MB/s eta 0:00:00\n",
      "  Installing build dependencies: started\n",
      "  Installing build dependencies: finished with status 'done'\n",
      "  Getting requirements to build wheel: started\n",
      "  Getting requirements to build wheel: finished with status 'done'\n",
      "  Preparing metadata (pyproject.toml): started\n",
      "  Preparing metadata (pyproject.toml): finished with status 'done'\n",
      "Building wheels for collected packages: gdal\n",
      "  Building wheel for gdal (pyproject.toml): started\n",
      "  Building wheel for gdal (pyproject.toml): finished with status 'error'\n",
      "Failed to build gdal\n",
      "Note: you may need to restart the kernel to use updated packages.\n"
     ]
    },
    {
     "name": "stderr",
     "output_type": "stream",
     "text": [
      "  error: subprocess-exited-with-error\n",
      "  \n",
      "  Building wheel for gdal (pyproject.toml) did not run successfully.\n",
      "  exit code: 1\n",
      "  \n",
      "  [126 lines of output]\n",
      "  Using numpy 2.0.0rc2\n",
      "  running bdist_wheel\n",
      "  running build\n",
      "  running build_py\n",
      "  creating build\n",
      "  creating build\\lib.win-amd64-cpython-311\n",
      "  creating build\\lib.win-amd64-cpython-311\\osgeo\n",
      "  copying osgeo\\gdal.py -> build\\lib.win-amd64-cpython-311\\osgeo\n",
      "  copying osgeo\\gdalconst.py -> build\\lib.win-amd64-cpython-311\\osgeo\n",
      "  copying osgeo\\gdalnumeric.py -> build\\lib.win-amd64-cpython-311\\osgeo\n",
      "  copying osgeo\\gdal_array.py -> build\\lib.win-amd64-cpython-311\\osgeo\n",
      "  copying osgeo\\gnm.py -> build\\lib.win-amd64-cpython-311\\osgeo\n",
      "  copying osgeo\\ogr.py -> build\\lib.win-amd64-cpython-311\\osgeo\n",
      "  copying osgeo\\osr.py -> build\\lib.win-amd64-cpython-311\\osgeo\n",
      "  copying osgeo\\__init__.py -> build\\lib.win-amd64-cpython-311\\osgeo\n",
      "  creating build\\lib.win-amd64-cpython-311\\osgeo_utils\n",
      "  copying gdal-utils\\osgeo_utils\\gdal2tiles.py -> build\\lib.win-amd64-cpython-311\\osgeo_utils\n",
      "  copying gdal-utils\\osgeo_utils\\gdal2xyz.py -> build\\lib.win-amd64-cpython-311\\osgeo_utils\n",
      "  copying gdal-utils\\osgeo_utils\\gdalattachpct.py -> build\\lib.win-amd64-cpython-311\\osgeo_utils\n",
      "  copying gdal-utils\\osgeo_utils\\gdalcompare.py -> build\\lib.win-amd64-cpython-311\\osgeo_utils\n",
      "  copying gdal-utils\\osgeo_utils\\gdalmove.py -> build\\lib.win-amd64-cpython-311\\osgeo_utils\n",
      "  copying gdal-utils\\osgeo_utils\\gdal_calc.py -> build\\lib.win-amd64-cpython-311\\osgeo_utils\n",
      "  copying gdal-utils\\osgeo_utils\\gdal_edit.py -> build\\lib.win-amd64-cpython-311\\osgeo_utils\n",
      "  copying gdal-utils\\osgeo_utils\\gdal_fillnodata.py -> build\\lib.win-amd64-cpython-311\\osgeo_utils\n",
      "  copying gdal-utils\\osgeo_utils\\gdal_merge.py -> build\\lib.win-amd64-cpython-311\\osgeo_utils\n",
      "  copying gdal-utils\\osgeo_utils\\gdal_pansharpen.py -> build\\lib.win-amd64-cpython-311\\osgeo_utils\n",
      "  copying gdal-utils\\osgeo_utils\\gdal_polygonize.py -> build\\lib.win-amd64-cpython-311\\osgeo_utils\n",
      "  copying gdal-utils\\osgeo_utils\\gdal_proximity.py -> build\\lib.win-amd64-cpython-311\\osgeo_utils\n",
      "  copying gdal-utils\\osgeo_utils\\gdal_retile.py -> build\\lib.win-amd64-cpython-311\\osgeo_utils\n",
      "  copying gdal-utils\\osgeo_utils\\gdal_sieve.py -> build\\lib.win-amd64-cpython-311\\osgeo_utils\n",
      "  copying gdal-utils\\osgeo_utils\\ogrmerge.py -> build\\lib.win-amd64-cpython-311\\osgeo_utils\n",
      "  copying gdal-utils\\osgeo_utils\\ogr_layer_algebra.py -> build\\lib.win-amd64-cpython-311\\osgeo_utils\n",
      "  copying gdal-utils\\osgeo_utils\\pct2rgb.py -> build\\lib.win-amd64-cpython-311\\osgeo_utils\n",
      "  copying gdal-utils\\osgeo_utils\\rgb2pct.py -> build\\lib.win-amd64-cpython-311\\osgeo_utils\n",
      "  copying gdal-utils\\osgeo_utils\\__init__.py -> build\\lib.win-amd64-cpython-311\\osgeo_utils\n",
      "  creating build\\lib.win-amd64-cpython-311\\osgeo_utils\\auxiliary\n",
      "  copying gdal-utils\\osgeo_utils\\auxiliary\\array_util.py -> build\\lib.win-amd64-cpython-311\\osgeo_utils\\auxiliary\n",
      "  copying gdal-utils\\osgeo_utils\\auxiliary\\base.py -> build\\lib.win-amd64-cpython-311\\osgeo_utils\\auxiliary\n",
      "  copying gdal-utils\\osgeo_utils\\auxiliary\\batch_creator.py -> build\\lib.win-amd64-cpython-311\\osgeo_utils\\auxiliary\n",
      "  copying gdal-utils\\osgeo_utils\\auxiliary\\color_palette.py -> build\\lib.win-amd64-cpython-311\\osgeo_utils\\auxiliary\n",
      "  copying gdal-utils\\osgeo_utils\\auxiliary\\color_table.py -> build\\lib.win-amd64-cpython-311\\osgeo_utils\\auxiliary\n",
      "  copying gdal-utils\\osgeo_utils\\auxiliary\\extent_util.py -> build\\lib.win-amd64-cpython-311\\osgeo_utils\\auxiliary\n",
      "  copying gdal-utils\\osgeo_utils\\auxiliary\\gdal_argparse.py -> build\\lib.win-amd64-cpython-311\\osgeo_utils\\auxiliary\n",
      "  copying gdal-utils\\osgeo_utils\\auxiliary\\numpy_util.py -> build\\lib.win-amd64-cpython-311\\osgeo_utils\\auxiliary\n",
      "  copying gdal-utils\\osgeo_utils\\auxiliary\\osr_util.py -> build\\lib.win-amd64-cpython-311\\osgeo_utils\\auxiliary\n",
      "  copying gdal-utils\\osgeo_utils\\auxiliary\\progress.py -> build\\lib.win-amd64-cpython-311\\osgeo_utils\\auxiliary\n",
      "  copying gdal-utils\\osgeo_utils\\auxiliary\\raster_creation.py -> build\\lib.win-amd64-cpython-311\\osgeo_utils\\auxiliary\n",
      "  copying gdal-utils\\osgeo_utils\\auxiliary\\rectangle.py -> build\\lib.win-amd64-cpython-311\\osgeo_utils\\auxiliary\n",
      "  copying gdal-utils\\osgeo_utils\\auxiliary\\util.py -> build\\lib.win-amd64-cpython-311\\osgeo_utils\\auxiliary\n",
      "  copying gdal-utils\\osgeo_utils\\auxiliary\\__init__.py -> build\\lib.win-amd64-cpython-311\\osgeo_utils\\auxiliary\n",
      "  creating build\\lib.win-amd64-cpython-311\\osgeo_utils\\samples\n",
      "  copying gdal-utils\\osgeo_utils\\samples\\assemblepoly.py -> build\\lib.win-amd64-cpython-311\\osgeo_utils\\samples\n",
      "  copying gdal-utils\\osgeo_utils\\samples\\build_jp2_from_xml.py -> build\\lib.win-amd64-cpython-311\\osgeo_utils\\samples\n",
      "  copying gdal-utils\\osgeo_utils\\samples\\classify.py -> build\\lib.win-amd64-cpython-311\\osgeo_utils\\samples\n",
      "  copying gdal-utils\\osgeo_utils\\samples\\crs2crs2grid.py -> build\\lib.win-amd64-cpython-311\\osgeo_utils\\samples\n",
      "  copying gdal-utils\\osgeo_utils\\samples\\densify.py -> build\\lib.win-amd64-cpython-311\\osgeo_utils\\samples\n",
      "  copying gdal-utils\\osgeo_utils\\samples\\dump_jp2.py -> build\\lib.win-amd64-cpython-311\\osgeo_utils\\samples\n",
      "  copying gdal-utils\\osgeo_utils\\samples\\epsg_tr.py -> build\\lib.win-amd64-cpython-311\\osgeo_utils\\samples\n",
      "  copying gdal-utils\\osgeo_utils\\samples\\esri2wkt.py -> build\\lib.win-amd64-cpython-311\\osgeo_utils\\samples\n",
      "  copying gdal-utils\\osgeo_utils\\samples\\fft.py -> build\\lib.win-amd64-cpython-311\\osgeo_utils\\samples\n",
      "  copying gdal-utils\\osgeo_utils\\samples\\fix_gpkg.py -> build\\lib.win-amd64-cpython-311\\osgeo_utils\\samples\n",
      "  copying gdal-utils\\osgeo_utils\\samples\\gcps2ogr.py -> build\\lib.win-amd64-cpython-311\\osgeo_utils\\samples\n",
      "  copying gdal-utils\\osgeo_utils\\samples\\gcps2vec.py -> build\\lib.win-amd64-cpython-311\\osgeo_utils\\samples\n",
      "  copying gdal-utils\\osgeo_utils\\samples\\gcps2wld.py -> build\\lib.win-amd64-cpython-311\\osgeo_utils\\samples\n",
      "  copying gdal-utils\\osgeo_utils\\samples\\gdal2grd.py -> build\\lib.win-amd64-cpython-311\\osgeo_utils\\samples\n",
      "  copying gdal-utils\\osgeo_utils\\samples\\gdalbuildvrtofvrt.py -> build\\lib.win-amd64-cpython-311\\osgeo_utils\\samples\n",
      "  copying gdal-utils\\osgeo_utils\\samples\\gdalchksum.py -> build\\lib.win-amd64-cpython-311\\osgeo_utils\\samples\n",
      "  copying gdal-utils\\osgeo_utils\\samples\\gdalcopyproj.py -> build\\lib.win-amd64-cpython-311\\osgeo_utils\\samples\n",
      "  copying gdal-utils\\osgeo_utils\\samples\\gdalfilter.py -> build\\lib.win-amd64-cpython-311\\osgeo_utils\\samples\n",
      "  copying gdal-utils\\osgeo_utils\\samples\\gdalident.py -> build\\lib.win-amd64-cpython-311\\osgeo_utils\\samples\n",
      "  copying gdal-utils\\osgeo_utils\\samples\\gdalimport.py -> build\\lib.win-amd64-cpython-311\\osgeo_utils\\samples\n",
      "  copying gdal-utils\\osgeo_utils\\samples\\gdalinfo.py -> build\\lib.win-amd64-cpython-311\\osgeo_utils\\samples\n",
      "  copying gdal-utils\\osgeo_utils\\samples\\gdallocationinfo.py -> build\\lib.win-amd64-cpython-311\\osgeo_utils\\samples\n",
      "  copying gdal-utils\\osgeo_utils\\samples\\gdal_auth.py -> build\\lib.win-amd64-cpython-311\\osgeo_utils\\samples\n",
      "  copying gdal-utils\\osgeo_utils\\samples\\gdal_cp.py -> build\\lib.win-amd64-cpython-311\\osgeo_utils\\samples\n",
      "  copying gdal-utils\\osgeo_utils\\samples\\gdal_create_pdf.py -> build\\lib.win-amd64-cpython-311\\osgeo_utils\\samples\n",
      "  copying gdal-utils\\osgeo_utils\\samples\\gdal_ls.py -> build\\lib.win-amd64-cpython-311\\osgeo_utils\\samples\n",
      "  copying gdal-utils\\osgeo_utils\\samples\\gdal_lut.py -> build\\lib.win-amd64-cpython-311\\osgeo_utils\\samples\n",
      "  copying gdal-utils\\osgeo_utils\\samples\\gdal_mkdir.py -> build\\lib.win-amd64-cpython-311\\osgeo_utils\\samples\n",
      "  copying gdal-utils\\osgeo_utils\\samples\\gdal_remove_towgs84.py -> build\\lib.win-amd64-cpython-311\\osgeo_utils\\samples\n",
      "  copying gdal-utils\\osgeo_utils\\samples\\gdal_rm.py -> build\\lib.win-amd64-cpython-311\\osgeo_utils\\samples\n",
      "  copying gdal-utils\\osgeo_utils\\samples\\gdal_rmdir.py -> build\\lib.win-amd64-cpython-311\\osgeo_utils\\samples\n",
      "  copying gdal-utils\\osgeo_utils\\samples\\gdal_vrtmerge.py -> build\\lib.win-amd64-cpython-311\\osgeo_utils\\samples\n",
      "  copying gdal-utils\\osgeo_utils\\samples\\get_soundg.py -> build\\lib.win-amd64-cpython-311\\osgeo_utils\\samples\n",
      "  copying gdal-utils\\osgeo_utils\\samples\\histrep.py -> build\\lib.win-amd64-cpython-311\\osgeo_utils\\samples\n",
      "  copying gdal-utils\\osgeo_utils\\samples\\hsv_merge.py -> build\\lib.win-amd64-cpython-311\\osgeo_utils\\samples\n",
      "  copying gdal-utils\\osgeo_utils\\samples\\jpeg_in_tiff_extract.py -> build\\lib.win-amd64-cpython-311\\osgeo_utils\\samples\n",
      "  copying gdal-utils\\osgeo_utils\\samples\\load2odbc.py -> build\\lib.win-amd64-cpython-311\\osgeo_utils\\samples\n",
      "  copying gdal-utils\\osgeo_utils\\samples\\loslas2ntv2.py -> build\\lib.win-amd64-cpython-311\\osgeo_utils\\samples\n",
      "  copying gdal-utils\\osgeo_utils\\samples\\magphase.py -> build\\lib.win-amd64-cpython-311\\osgeo_utils\\samples\n",
      "  copying gdal-utils\\osgeo_utils\\samples\\make_fuzzer_friendly_archive.py -> build\\lib.win-amd64-cpython-311\\osgeo_utils\\samples\n",
      "  copying gdal-utils\\osgeo_utils\\samples\\mkgraticule.py -> build\\lib.win-amd64-cpython-311\\osgeo_utils\\samples\n",
      "  copying gdal-utils\\osgeo_utils\\samples\\ogr2vrt.py -> build\\lib.win-amd64-cpython-311\\osgeo_utils\\samples\n",
      "  copying gdal-utils\\osgeo_utils\\samples\\ogrinfo.py -> build\\lib.win-amd64-cpython-311\\osgeo_utils\\samples\n",
      "  copying gdal-utils\\osgeo_utils\\samples\\ogrupdate.py -> build\\lib.win-amd64-cpython-311\\osgeo_utils\\samples\n",
      "  copying gdal-utils\\osgeo_utils\\samples\\ogr_build_junction_table.py -> build\\lib.win-amd64-cpython-311\\osgeo_utils\\samples\n",
      "  copying gdal-utils\\osgeo_utils\\samples\\ogr_dispatch.py -> build\\lib.win-amd64-cpython-311\\osgeo_utils\\samples\n",
      "  copying gdal-utils\\osgeo_utils\\samples\\rel.py -> build\\lib.win-amd64-cpython-311\\osgeo_utils\\samples\n",
      "  copying gdal-utils\\osgeo_utils\\samples\\tigerpoly.py -> build\\lib.win-amd64-cpython-311\\osgeo_utils\\samples\n",
      "  copying gdal-utils\\osgeo_utils\\samples\\tile_extent_from_raster.py -> build\\lib.win-amd64-cpython-311\\osgeo_utils\\samples\n",
      "  copying gdal-utils\\osgeo_utils\\samples\\tolatlong.py -> build\\lib.win-amd64-cpython-311\\osgeo_utils\\samples\n",
      "  copying gdal-utils\\osgeo_utils\\samples\\validate_cloud_optimized_geotiff.py -> build\\lib.win-amd64-cpython-311\\osgeo_utils\\samples\n",
      "  copying gdal-utils\\osgeo_utils\\samples\\validate_geoparquet.py -> build\\lib.win-amd64-cpython-311\\osgeo_utils\\samples\n",
      "  copying gdal-utils\\osgeo_utils\\samples\\validate_gpkg.py -> build\\lib.win-amd64-cpython-311\\osgeo_utils\\samples\n",
      "  copying gdal-utils\\osgeo_utils\\samples\\validate_jp2.py -> build\\lib.win-amd64-cpython-311\\osgeo_utils\\samples\n",
      "  copying gdal-utils\\osgeo_utils\\samples\\val_repl.py -> build\\lib.win-amd64-cpython-311\\osgeo_utils\\samples\n",
      "  copying gdal-utils\\osgeo_utils\\samples\\vec_tr.py -> build\\lib.win-amd64-cpython-311\\osgeo_utils\\samples\n",
      "  copying gdal-utils\\osgeo_utils\\samples\\vec_tr_spat.py -> build\\lib.win-amd64-cpython-311\\osgeo_utils\\samples\n",
      "  copying gdal-utils\\osgeo_utils\\samples\\wcs_virtds_params.py -> build\\lib.win-amd64-cpython-311\\osgeo_utils\\samples\n",
      "  copying gdal-utils\\osgeo_utils\\samples\\__init__.py -> build\\lib.win-amd64-cpython-311\\osgeo_utils\\samples\n",
      "  running egg_info\n",
      "  writing gdal-utils\\GDAL.egg-info\\PKG-INFO\n",
      "  writing dependency_links to gdal-utils\\GDAL.egg-info\\dependency_links.txt\n",
      "  writing entry points to gdal-utils\\GDAL.egg-info\\entry_points.txt\n",
      "  writing requirements to gdal-utils\\GDAL.egg-info\\requires.txt\n",
      "  writing top-level names to gdal-utils\\GDAL.egg-info\\top_level.txt\n",
      "  reading manifest file 'gdal-utils\\GDAL.egg-info\\SOURCES.txt'\n",
      "  writing manifest file 'gdal-utils\\GDAL.egg-info\\SOURCES.txt'\n",
      "  running build_ext\n",
      "  building 'osgeo._gdal' extension\n",
      "  building 'osgeo._ogr' extension\n",
      "  building 'osgeo._gdalconst' extension\n",
      "  building 'osgeo._gnm' extension\n",
      "  building 'osgeo._osr' extension\n",
      "  building 'osgeo._gdal_array' extension\n",
      "  error: Microsoft Visual C++ 14.0 or greater is required. Get it with \"Microsoft C++ Build Tools\": https://visualstudio.microsoft.com/visual-cpp-build-tools/\n",
      "  [end of output]\n",
      "  \n",
      "  note: This error originates from a subprocess, and is likely not a problem with pip.\n",
      "  ERROR: Failed building wheel for gdal\n",
      "ERROR: Could not build wheels for gdal, which is required to install pyproject.toml-based projects\n"
     ]
    }
   ],
   "source": [
    "pip install gdal"
   ]
  },
  {
   "cell_type": "code",
   "execution_count": 1,
   "id": "9bdc1a24-1c4d-4e0d-b5c8-f215a5fab08c",
   "metadata": {},
   "outputs": [
    {
     "name": "stdout",
     "output_type": "stream",
     "text": [
      "3060200\n"
     ]
    }
   ],
   "source": [
    "from osgeo import gdal\n",
    "print(gdal.VersionInfo())"
   ]
  },
  {
   "cell_type": "code",
   "execution_count": 1,
   "id": "348ce5c3-3797-4ca0-9dbe-4b74c55fb1ce",
   "metadata": {},
   "outputs": [],
   "source": [
    "from osgeo import gdal\n",
    "import os\n",
    "\n",
    "# Lista de archivos TIFF de entrada\n",
    "input_files = [\n",
    "    r\"C:\\Users\\UTIC\\Desktop\\imeplan\\Insumos\\TIFF MX\\Aguascalientes_r15m.tif\",\n",
    "    r\"C:\\Users\\UTIC\\Desktop\\imeplan\\Insumos\\TIFF MX\\BajaCalifornia_r15m.tif.tif\",\n",
    "    r\"C:\\Users\\UTIC\\Desktop\\imeplan\\Insumos\\TIFF MX\\BajaCaliforniaS_15m.tif\",\n",
    "    r\"C:\\Users\\UTIC\\Desktop\\imeplan\\Insumos\\TIFF MX\\Campeche_r15m.tif\",\n",
    "    r\"C:\\Users\\UTIC\\Desktop\\imeplan\\Insumos\\TIFF MX\\Coahuila_r15m.tif\",\n",
    "    r\"C:\\Users\\UTIC\\Desktop\\imeplan\\Insumos\\TIFF MX\\Colima_r15m.tif\",\n",
    "    r\"C:\\Users\\UTIC\\Desktop\\imeplan\\Insumos\\TIFF MX\\Chiapas_r15m.tif\",\n",
    "    r\"C:\\Users\\UTIC\\Desktop\\imeplan\\Insumos\\TIFF MX\\Chihuahua_r15m.tif\",\n",
    "    r\"C:\\Users\\UTIC\\Desktop\\imeplan\\Insumos\\TIFF MX\\CiudadMexico_r15m.tif\",\n",
    "    r\"C:\\Users\\UTIC\\Desktop\\imeplan\\Insumos\\TIFF MX\\Durango_r15m.tif\",\n",
    "    r\"C:\\Users\\UTIC\\Desktop\\imeplan\\Insumos\\TIFF MX\\Guanajuato_r15m.tif\",\n",
    "    r\"C:\\Users\\UTIC\\Desktop\\imeplan\\Insumos\\TIFF MX\\Guerrero_r15m.tif\",\n",
    "    r\"C:\\Users\\UTIC\\Desktop\\imeplan\\Insumos\\TIFF MX\\Hidalgo_r15m.tif\",\n",
    "    r\"C:\\Users\\UTIC\\Desktop\\imeplan\\Insumos\\TIFF MX\\Jalisco_r15m.tif\",\n",
    "    r\"C:\\Users\\UTIC\\Desktop\\imeplan\\Insumos\\TIFF MX\\Mexico_r15m.tif\",\n",
    "    r\"C:\\Users\\UTIC\\Desktop\\imeplan\\Insumos\\TIFF MX\\Michoacan_r15m.tif\",\n",
    "    r\"C:\\Users\\UTIC\\Desktop\\imeplan\\Insumos\\TIFF MX\\Morelos_r15m.tif\",\n",
    "    r\"C:\\Users\\UTIC\\Desktop\\imeplan\\Insumos\\TIFF MX\\Nayarit_r15m.tif\",\n",
    "    r\"C:\\Users\\UTIC\\Desktop\\imeplan\\Insumos\\TIFF MX\\NuevoLeon_r15m.tif\",\n",
    "    r\"C:\\Users\\UTIC\\Desktop\\imeplan\\Insumos\\TIFF MX\\Oaxaca_r15m.tif\",\n",
    "    r\"C:\\Users\\UTIC\\Desktop\\imeplan\\Insumos\\TIFF MX\\Puebla_r15m.tif\",\n",
    "    r\"C:\\Users\\UTIC\\Desktop\\imeplan\\Insumos\\TIFF MX\\Queretaro_r15m.tif\",\n",
    "    r\"C:\\Users\\UTIC\\Desktop\\imeplan\\Insumos\\TIFF MX\\QuintanaRoo_r15.tif\",\n",
    "    r\"C:\\Users\\UTIC\\Desktop\\imeplan\\Insumos\\TIFF MX\\SanLuisPotosi_r15.tif\",\n",
    "    r\"C:\\Users\\UTIC\\Desktop\\imeplan\\Sonora_cortado.tif\",\n",
    "    r\"C:\\Users\\UTIC\\Desktop\\imeplan\\Insumos\\TIFF MX\\Sonora_r15m_A.tif\",\n",
    "    r\"C:\\Users\\UTIC\\Desktop\\imeplan\\Insumos\\TIFF MX\\Tabasco_r15m.tif\",\n",
    "    r\"C:\\Users\\UTIC\\Desktop\\imeplan\\Insumos\\TIFF MX\\Tamaulipas_r15m.tif\",\n",
    "    r\"C:\\Users\\UTIC\\Desktop\\imeplan\\Insumos\\TIFF MX\\Tlaxcala_r15m.tif\",\n",
    "    r\"C:\\Users\\UTIC\\Desktop\\imeplan\\Insumos\\TIFF MX\\Veracruz_r15m.tif\",\n",
    "    r\"C:\\Users\\UTIC\\Desktop\\imeplan\\Insumos\\TIFF MX\\Yucatan_r15m.tif\",\n",
    "    r\"C:\\Users\\UTIC\\Desktop\\imeplan\\Insumos\\TIFF MX\\Zacatecas_r15m.tif\"\n",
    "]\n",
    "\n",
    "# Salida del archivo TIFF\n",
    "output_file = r\"C:\\Users\\UTIC\\Desktop\\imeplan\\Insumos\\TIFF MX\\mexico_mosaic_V2.tif\"\n",
    "\n",
    "# Verifica si los archivos de entrada existen\n",
    "for tiff in input_files:\n",
    "    if not os.path.exists(tiff):\n",
    "        print(f\"Error: No se encontró el archivo {tiff}\")\n",
    "        exit(1)"
   ]
  },
  {
   "cell_type": "code",
   "execution_count": 15,
   "id": "750f9275-813d-4e3b-8277-3a89dbac5e53",
   "metadata": {},
   "outputs": [
    {
     "name": "stdout",
     "output_type": "stream",
     "text": [
      "Información del sistema de coordenadas:\n",
      "GEOGCS[\"GCS_MEXICO_ITRF_2008\",DATUM[\"D_ITRF_2008\",SPHEROID[\"GRS_1980\",6378137,298.257222101,AUTHORITY[\"EPSG\",\"7019\"]],AUTHORITY[\"EPSG\",\"1061\"]],PRIMEM[\"Greenwich\",0],UNIT[\"degree\",0.0174532925199433,AUTHORITY[\"EPSG\",\"9122\"]],AXIS[\"Latitude\",NORTH],AXIS[\"Longitude\",EAST]]\n"
     ]
    }
   ],
   "source": [
    "from osgeo import gdal\n",
    "\n",
    "# Ruta al archivo TIFF\n",
    "archivo_tif = r\"C:\\Users\\UTIC\\Desktop\\imeplan\\Insumos\\TIFF MX\\Sonora_r15m.tif\"\n",
    "\n",
    "# Abrir el archivo TIFF\n",
    "dataset = gdal.Open(archivo_tif)\n",
    "\n",
    "# Verificar si el archivo se abrió correctamente\n",
    "if dataset is None:\n",
    "    print(\"No se pudo abrir el archivo TIFF.\")\n",
    "else:\n",
    "    # Obtener la información del sistema de coordenadas\n",
    "    sistema_coordenadas = dataset.GetProjection()\n",
    "\n",
    "    # Mostrar la información del sistema de coordenadas\n",
    "    print(\"Información del sistema de coordenadas:\")\n",
    "    print(sistema_coordenadas)\n"
   ]
  },
  {
   "cell_type": "code",
   "execution_count": 2,
   "id": "895b9178-c7d4-4d6b-9b7b-303e0b5033aa",
   "metadata": {},
   "outputs": [
    {
     "name": "stdout",
     "output_type": "stream",
     "text": [
      "Archivo TIFF creado exitosamente: C:\\Users\\UTIC\\Desktop\\imeplan\\Insumos\\TIFF MX\\mexico_mosaic_V2.tif\n"
     ]
    }
   ],
   "source": [
    "# Crear el mosaico VRT utilizando las rutas de los archivos\n",
    "vrt = gdal.BuildVRT('mosaic.vrt', input_files)\n",
    "\n",
    "# Verifica si el VRT se ha creado correctamente\n",
    "if vrt is None:\n",
    "    print(\"Error: No se pudo crear el archivo VRT\")\n",
    "    exit(1)\n",
    "\n",
    "# Convertir el VRT a un archivo TIFF final\n",
    "translate_options = gdal.TranslateOptions(format='GTiff')\n",
    "result = gdal.Translate(output_file, vrt, options=translate_options)\n",
    "\n",
    "# Verifica si el archivo TIFF se ha creado correctamente\n",
    "if result is None:\n",
    "    print(\"Error: No se pudo crear el archivo TIFF final\")\n",
    "else:\n",
    "    print(f\"Archivo TIFF creado exitosamente: {output_file}\")"
   ]
  },
  {
   "cell_type": "markdown",
   "id": "b2c78558-25b6-4109-81f4-f56db07d8c8a",
   "metadata": {},
   "source": [
    "## Cambiar tipo de archio sonora"
   ]
  },
  {
   "cell_type": "code",
   "execution_count": 17,
   "id": "e112b67e-32f1-4895-a366-5a580f409eab",
   "metadata": {},
   "outputs": [
    {
     "name": "stdout",
     "output_type": "stream",
     "text": [
      "Conversion completada.\n"
     ]
    }
   ],
   "source": [
    "from osgeo import gdal\n",
    "\n",
    "# Ruta al archivo de entrada y salida\n",
    "input_file = r\"C:\\Users\\UTIC\\Desktop\\imeplan\\Insumos\\TIFF MX\\Sonora_r15m.tif\"\n",
    "output_file = r\"C:\\Users\\UTIC\\Desktop\\imeplan\\Insumos\\TIFF MX\\Sonora_r15m_V2.tif\"\n",
    "\n",
    "# Abrir el archivo de entrada\n",
    "input_ds = gdal.Open(input_file)\n",
    "\n",
    "# Obtener información sobre la banda\n",
    "band = input_ds.GetRasterBand(1)\n",
    "data_type = band.DataType\n",
    "\n",
    "# Comprobar si el tipo de datos es Int32\n",
    "if data_type == gdal.GDT_Int32:\n",
    "    # Crear un nuevo conjunto de datos con tipo de datos Int16\n",
    "    driver = gdal.GetDriverByName(\"GTiff\")\n",
    "    output_ds = driver.CreateCopy(output_file, input_ds, options=[\"TILED=YES\", \"COMPRESS=LZW\"], strict=0)\n",
    "    \n",
    "    # Convertir la banda a tipo de datos Int16\n",
    "    output_band = output_ds.GetRasterBand(1)\n",
    "    output_band.SetMetadata({'STATISTICS_SKIPFACTORX':'1', 'STATISTICS_SKIPFACTORY':'1', 'STATISTICS_MINF':'0', 'STATISTICS_MAXF':'65535'},'')\n",
    "    output_band = None\n",
    "    \n",
    "    # Cerrar los conjuntos de datos\n",
    "    input_ds = None\n",
    "    output_ds = None\n",
    "    \n",
    "    print(\"Conversion completada.\")\n",
    "else:\n",
    "    print(\"El tipo de datos de la banda no es Int32. No se requiere conversión.\")\n"
   ]
  },
  {
   "cell_type": "code",
   "execution_count": 29,
   "id": "955ecdf4-6b27-4c8a-b0e0-a29e7034669c",
   "metadata": {},
   "outputs": [
    {
     "name": "stdout",
     "output_type": "stream",
     "text": [
      "Archivo convertido a 3 y guardado en C:\\Users\\UTIC\\Desktop\\imeplan\\Insumos\\TIFF MX\\Sonora_r15m_A.tif\n"
     ]
    }
   ],
   "source": [
    "#versión dos\n",
    "\n",
    "from osgeo import gdal\n",
    "\n",
    "def convert_datatype(input_tiff, output_tiff, output_dtype=gdal.GDT_Int16):\n",
    "    # Abrir el archivo de imagen\n",
    "    dataset = gdal.Open(input_tiff)\n",
    "    \n",
    "    if not dataset:\n",
    "        print(f\"No se pudo abrir {input_tiff}\")\n",
    "        return False\n",
    "    \n",
    "    # Obtener información de la proyección y la geotransformación\n",
    "    projection = dataset.GetProjection()\n",
    "    geotransform = dataset.GetGeoTransform()\n",
    "\n",
    "    # Convertir el tipo de dato usando gdal.Translate\n",
    "    gdal.Translate(output_tiff, dataset, outputType=output_dtype)\n",
    "\n",
    "    # Reabrir el nuevo archivo y establecer la proyección y la geotransformación\n",
    "    out_dataset = gdal.Open(output_tiff, gdal.GA_Update)\n",
    "    out_dataset.SetProjection(projection)\n",
    "    out_dataset.SetGeoTransform(geotransform)\n",
    "\n",
    "    # Cerrar los datasets\n",
    "    dataset = None\n",
    "    out_dataset = None\n",
    "\n",
    "    print(f\"Archivo convertido a {output_dtype} y guardado en {output_tiff}\")\n",
    "    return True\n",
    "\n",
    "# Ejemplo de uso\n",
    "if __name__ == \"__main__\":\n",
    "    input_tiff = r\"C:\\Users\\UTIC\\Desktop\\imeplan\\Insumos\\TIFF MX\\Sonora_r15m.tif\"\n",
    "    output_tiff = r\"C:\\Users\\UTIC\\Desktop\\imeplan\\Insumos\\TIFF MX\\Sonora_r15m_A.tif\"\n",
    "\n",
    "    # Convertir el archivo a Int16\n",
    "    convert_datatype(input_tiff, output_tiff)\n"
   ]
  },
  {
   "cell_type": "markdown",
   "id": "649592a0-99a2-4396-bd66-971c90f7eaab",
   "metadata": {},
   "source": [
    "## Verificar coordenadas"
   ]
  },
  {
   "cell_type": "code",
   "execution_count": 3,
   "id": "18b1bc29-6dd3-4141-aee8-bc14add8ec25",
   "metadata": {},
   "outputs": [],
   "source": [
    "from osgeo import gdal, osr\n",
    "\n",
    "# Punto 1: Verificar la definición de proyección\n",
    "def check_projection(tiff_file):\n",
    "    dataset = gdal.Open(tiff_file)\n",
    "    projection = dataset.GetProjection()\n",
    "    print(\"Proyección del archivo TIFF:\", projection)\n",
    "    dataset = None\n",
    "\n",
    "# Punto 2: Transformación de proyección\n",
    "def transform_projection(input_tiff, output_tiff, target_projection):\n",
    "    gdal.Warp(output_tiff, input_tiff, dstSRS=target_projection)"
   ]
  },
  {
   "cell_type": "code",
   "execution_count": 4,
   "id": "3f815f2d-2b88-4c0e-b3a8-5a36c6a72195",
   "metadata": {},
   "outputs": [
    {
     "name": "stdout",
     "output_type": "stream",
     "text": [
      "Proyección del archivo TIFF: GEOGCS[\"GCS_MEXICO_ITRF_2008\",DATUM[\"D_ITRF_2008\",SPHEROID[\"GRS_1980\",6378137,298.257222101,AUTHORITY[\"EPSG\",\"7019\"]],AUTHORITY[\"EPSG\",\"1061\"]],PRIMEM[\"Greenwich\",0],UNIT[\"degree\",0.0174532925199433,AUTHORITY[\"EPSG\",\"9122\"]],AXIS[\"Latitude\",NORTH],AXIS[\"Longitude\",EAST]]\n"
     ]
    }
   ],
   "source": [
    "if __name__ == \"__main__\":\n",
    "    # Punto 1: Verificar la definición de proyección\n",
    "    check_projection(r\"C:\\Users\\UTIC\\Desktop\\imeplan\\Insumos\\TIFF MX\\Zacatecas_r15m.tif\")"
   ]
  },
  {
   "cell_type": "code",
   "execution_count": 6,
   "id": "c19798e4-9d43-441c-bf96-3568467f52e3",
   "metadata": {},
   "outputs": [
    {
     "name": "stdout",
     "output_type": "stream",
     "text": [
      "Proyección del archivo TIFF: GEOGCS[\"GCS_MEXICO_ITRF_2008\",DATUM[\"unnamed\",SPHEROID[\"unnamed\",6378137,298.257222101004],AUTHORITY[\"EPSG\",\"1061\"]],PRIMEM[\"Greenwich\",0],UNIT[\"degree\",0.0174532925199433,AUTHORITY[\"EPSG\",\"9122\"]],AXIS[\"Latitude\",NORTH],AXIS[\"Longitude\",EAST]]\n"
     ]
    }
   ],
   "source": [
    "if __name__ == \"__main__\":\n",
    "    # Punto 1: Verificar la definición de proyección\n",
    "    check_projection(r\"C:\\Users\\UTIC\\Desktop\\imeplan\\Insumos\\TIFF MX\\Sonora_r15m_V2.tif\")"
   ]
  },
  {
   "cell_type": "code",
   "execution_count": 19,
   "id": "133b96fc-a1b8-4191-b7a3-7b5fd3d3fa23",
   "metadata": {},
   "outputs": [
    {
     "name": "stdout",
     "output_type": "stream",
     "text": [
      "Proyección del archivo TIFF: GEOGCS[\"GCS_MEXICO_ITRF_2008\",DATUM[\"D_ITRF_2008\",SPHEROID[\"GRS_1980\",6378137,298.257222101,AUTHORITY[\"EPSG\",\"7019\"]],AUTHORITY[\"EPSG\",\"1061\"]],PRIMEM[\"Greenwich\",0],UNIT[\"degree\",0.0174532925199433,AUTHORITY[\"EPSG\",\"9122\"]],AXIS[\"Latitude\",NORTH],AXIS[\"Longitude\",EAST]]\n"
     ]
    }
   ],
   "source": [
    "if __name__ == \"__main__\":\n",
    "    # Punto 1: Verificar la definición de proyección\n",
    "    check_projection(r\"C:\\Users\\UTIC\\Desktop\\imeplan\\Insumos\\TIFF MX\\Sonora_r15m.tif\")"
   ]
  },
  {
   "cell_type": "code",
   "execution_count": 23,
   "id": "e8927b0a-4c57-46e8-894f-2a596b13e146",
   "metadata": {},
   "outputs": [
    {
     "name": "stdout",
     "output_type": "stream",
     "text": [
      "Proyección del archivo TIFF: GEOGCS[\"GCS_MEXICO_ITRF_2008\",DATUM[\"unnamed\",SPHEROID[\"unnamed\",6378137,298.257222101004],AUTHORITY[\"EPSG\",\"1061\"]],PRIMEM[\"Greenwich\",0],UNIT[\"degree\",0.0174532925199433,AUTHORITY[\"EPSG\",\"9122\"]],AXIS[\"Latitude\",NORTH],AXIS[\"Longitude\",EAST]]\n"
     ]
    }
   ],
   "source": [
    "if __name__ == \"__main__\":\n",
    "    # Punto 1: Verificar la definición de proyección\n",
    "    check_projection(r\"C:\\Users\\UTIC\\Desktop\\imeplan\\Insumos\\TIFF MX\\Sonora_r15m_V3.tif\")"
   ]
  },
  {
   "cell_type": "code",
   "execution_count": 26,
   "id": "66676d4e-5daf-4520-9f50-da2e8accb73b",
   "metadata": {},
   "outputs": [
    {
     "name": "stdout",
     "output_type": "stream",
     "text": [
      "Proyección redefinida y guardada en C:\\Users\\UTIC\\Desktop\\imeplan\\Insumos\\TIFF MX\\Sonora_r15m_V3.tif\n"
     ]
    }
   ],
   "source": [
    "import os\n",
    "from osgeo import gdal, osr\n",
    "\n",
    "def redefine_projection(input_tiff, output_tiff, target_projection_wkt):\n",
    "    # Abrir el archivo de imagen\n",
    "    dataset = gdal.Open(input_tiff)\n",
    "    \n",
    "    if not dataset:\n",
    "        print(f\"No se pudo abrir {input_tiff}\")\n",
    "        return False\n",
    "\n",
    "    # Crear un objeto SpatialReference para la proyección de destino\n",
    "    target_srs = osr.SpatialReference()\n",
    "    target_srs.ImportFromWkt(target_projection_wkt)\n",
    "\n",
    "    # Usar gdal_translate para crear un nuevo archivo con la proyección correcta\n",
    "    gdal.Translate(output_tiff, dataset, outputSRS=target_srs.ExportToWkt())\n",
    "\n",
    "    # Cerrar el dataset\n",
    "    dataset = None\n",
    "    print(f\"Proyección redefinida y guardada en {output_tiff}\")\n",
    "    return True\n",
    "\n",
    "# Ejemplo de uso\n",
    "if __name__ == \"__main__\":\n",
    "    input_tiff = r\"C:\\Users\\UTIC\\Desktop\\imeplan\\Insumos\\TIFF MX\\Sonora_r15m_V2.tif\"\n",
    "    output_tiff = r\"C:\\Users\\UTIC\\Desktop\\imeplan\\Insumos\\TIFF MX\\Sonora_r15m_V3.tif\"\n",
    "    target_projection = 'GEOGCS[\"GCS_MEXICO_ITRF_2008\",DATUM[\"D_ITRF_2008\",SPHEROID[\"GRS_1980\",6378137,298.257222101,AUTHORITY[\"EPSG\",\"7019\"]],AUTHORITY[\"EPSG\",\"1061\"]],PRIMEM[\"Greenwich\",0],UNIT[\"degree\",0.0174532925199433,AUTHORITY[\"EPSG\",\"9122\"]],AXIS[\"Latitude\",NORTH],AXIS[\"Longitude\",EAST]]'\n",
    "\n",
    "    # Corregir la proyección del archivo problemático\n",
    "    redefine_projection(input_tiff, output_tiff, target_projection)"
   ]
  }
 ],
 "metadata": {
  "kernelspec": {
   "display_name": "Python 3 (ipykernel)",
   "language": "python",
   "name": "python3"
  },
  "language_info": {
   "codemirror_mode": {
    "name": "ipython",
    "version": 3
   },
   "file_extension": ".py",
   "mimetype": "text/x-python",
   "name": "python",
   "nbconvert_exporter": "python",
   "pygments_lexer": "ipython3",
   "version": "3.11.5"
  }
 },
 "nbformat": 4,
 "nbformat_minor": 5
}
